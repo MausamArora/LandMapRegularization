{
  "nbformat": 4,
  "nbformat_minor": 0,
  "metadata": {
    "accelerator": "GPU",
    "colab": {
      "name": "Training - Land Cover Classification using CNNs.ipynb",
      "provenance": [],
      "include_colab_link": true
    },
    "kernelspec": {
      "display_name": "Python 3",
      "name": "python3"
    },
    "language_info": {
      "name": "python"
    },
    "widgets": {
      "application/vnd.jupyter.widget-state+json": {
        "9b921e051ef9404d9c7141d47196ab99": {
          "model_module": "@jupyter-widgets/controls",
          "model_name": "HBoxModel",
          "model_module_version": "1.5.0",
          "state": {
            "_dom_classes": [],
            "_model_module": "@jupyter-widgets/controls",
            "_model_module_version": "1.5.0",
            "_model_name": "HBoxModel",
            "_view_count": null,
            "_view_module": "@jupyter-widgets/controls",
            "_view_module_version": "1.5.0",
            "_view_name": "HBoxView",
            "box_style": "",
            "children": [
              "IPY_MODEL_301ef1a91e6543b7a8e359a2afabc906",
              "IPY_MODEL_e4d55439fd134ceab5e97b754aad8a5c",
              "IPY_MODEL_42a263ca81ec4945b8b5bbd49152d59d"
            ],
            "layout": "IPY_MODEL_affde3cee4c5422bb92a33ca9d171cde"
          }
        },
        "301ef1a91e6543b7a8e359a2afabc906": {
          "model_module": "@jupyter-widgets/controls",
          "model_name": "HTMLModel",
          "model_module_version": "1.5.0",
          "state": {
            "_dom_classes": [],
            "_model_module": "@jupyter-widgets/controls",
            "_model_module_version": "1.5.0",
            "_model_name": "HTMLModel",
            "_view_count": null,
            "_view_module": "@jupyter-widgets/controls",
            "_view_module_version": "1.5.0",
            "_view_name": "HTMLView",
            "description": "",
            "description_tooltip": null,
            "layout": "IPY_MODEL_3938817162444d4e9853cfdac80e9c2b",
            "placeholder": "​",
            "style": "IPY_MODEL_d827e3498c82491ebb6edacd9d544bc1",
            "value": "Dl Completed...: 100%"
          }
        },
        "e4d55439fd134ceab5e97b754aad8a5c": {
          "model_module": "@jupyter-widgets/controls",
          "model_name": "FloatProgressModel",
          "model_module_version": "1.5.0",
          "state": {
            "_dom_classes": [],
            "_model_module": "@jupyter-widgets/controls",
            "_model_module_version": "1.5.0",
            "_model_name": "FloatProgressModel",
            "_view_count": null,
            "_view_module": "@jupyter-widgets/controls",
            "_view_module_version": "1.5.0",
            "_view_name": "ProgressView",
            "bar_style": "success",
            "description": "",
            "description_tooltip": null,
            "layout": "IPY_MODEL_ea79736635a143f09d30caa8b223c084",
            "max": 1,
            "min": 0,
            "orientation": "horizontal",
            "style": "IPY_MODEL_41388f69ae6346ac9ffe44790f17939f",
            "value": 1
          }
        },
        "42a263ca81ec4945b8b5bbd49152d59d": {
          "model_module": "@jupyter-widgets/controls",
          "model_name": "HTMLModel",
          "model_module_version": "1.5.0",
          "state": {
            "_dom_classes": [],
            "_model_module": "@jupyter-widgets/controls",
            "_model_module_version": "1.5.0",
            "_model_name": "HTMLModel",
            "_view_count": null,
            "_view_module": "@jupyter-widgets/controls",
            "_view_module_version": "1.5.0",
            "_view_name": "HTMLView",
            "description": "",
            "description_tooltip": null,
            "layout": "IPY_MODEL_4b593c58aab949cea2a9bede98f055c3",
            "placeholder": "​",
            "style": "IPY_MODEL_392f6c5978a8481daadad6229c79f9cd",
            "value": " 1/1 [03:43&lt;00:00, 93.72s/ url]"
          }
        },
        "affde3cee4c5422bb92a33ca9d171cde": {
          "model_module": "@jupyter-widgets/base",
          "model_name": "LayoutModel",
          "model_module_version": "1.2.0",
          "state": {
            "_model_module": "@jupyter-widgets/base",
            "_model_module_version": "1.2.0",
            "_model_name": "LayoutModel",
            "_view_count": null,
            "_view_module": "@jupyter-widgets/base",
            "_view_module_version": "1.2.0",
            "_view_name": "LayoutView",
            "align_content": null,
            "align_items": null,
            "align_self": null,
            "border": null,
            "bottom": null,
            "display": null,
            "flex": null,
            "flex_flow": null,
            "grid_area": null,
            "grid_auto_columns": null,
            "grid_auto_flow": null,
            "grid_auto_rows": null,
            "grid_column": null,
            "grid_gap": null,
            "grid_row": null,
            "grid_template_areas": null,
            "grid_template_columns": null,
            "grid_template_rows": null,
            "height": null,
            "justify_content": null,
            "justify_items": null,
            "left": null,
            "margin": null,
            "max_height": null,
            "max_width": null,
            "min_height": null,
            "min_width": null,
            "object_fit": null,
            "object_position": null,
            "order": null,
            "overflow": null,
            "overflow_x": null,
            "overflow_y": null,
            "padding": null,
            "right": null,
            "top": null,
            "visibility": null,
            "width": null
          }
        },
        "3938817162444d4e9853cfdac80e9c2b": {
          "model_module": "@jupyter-widgets/base",
          "model_name": "LayoutModel",
          "model_module_version": "1.2.0",
          "state": {
            "_model_module": "@jupyter-widgets/base",
            "_model_module_version": "1.2.0",
            "_model_name": "LayoutModel",
            "_view_count": null,
            "_view_module": "@jupyter-widgets/base",
            "_view_module_version": "1.2.0",
            "_view_name": "LayoutView",
            "align_content": null,
            "align_items": null,
            "align_self": null,
            "border": null,
            "bottom": null,
            "display": null,
            "flex": null,
            "flex_flow": null,
            "grid_area": null,
            "grid_auto_columns": null,
            "grid_auto_flow": null,
            "grid_auto_rows": null,
            "grid_column": null,
            "grid_gap": null,
            "grid_row": null,
            "grid_template_areas": null,
            "grid_template_columns": null,
            "grid_template_rows": null,
            "height": null,
            "justify_content": null,
            "justify_items": null,
            "left": null,
            "margin": null,
            "max_height": null,
            "max_width": null,
            "min_height": null,
            "min_width": null,
            "object_fit": null,
            "object_position": null,
            "order": null,
            "overflow": null,
            "overflow_x": null,
            "overflow_y": null,
            "padding": null,
            "right": null,
            "top": null,
            "visibility": null,
            "width": null
          }
        },
        "d827e3498c82491ebb6edacd9d544bc1": {
          "model_module": "@jupyter-widgets/controls",
          "model_name": "DescriptionStyleModel",
          "model_module_version": "1.5.0",
          "state": {
            "_model_module": "@jupyter-widgets/controls",
            "_model_module_version": "1.5.0",
            "_model_name": "DescriptionStyleModel",
            "_view_count": null,
            "_view_module": "@jupyter-widgets/base",
            "_view_module_version": "1.2.0",
            "_view_name": "StyleView",
            "description_width": ""
          }
        },
        "ea79736635a143f09d30caa8b223c084": {
          "model_module": "@jupyter-widgets/base",
          "model_name": "LayoutModel",
          "model_module_version": "1.2.0",
          "state": {
            "_model_module": "@jupyter-widgets/base",
            "_model_module_version": "1.2.0",
            "_model_name": "LayoutModel",
            "_view_count": null,
            "_view_module": "@jupyter-widgets/base",
            "_view_module_version": "1.2.0",
            "_view_name": "LayoutView",
            "align_content": null,
            "align_items": null,
            "align_self": null,
            "border": null,
            "bottom": null,
            "display": null,
            "flex": null,
            "flex_flow": null,
            "grid_area": null,
            "grid_auto_columns": null,
            "grid_auto_flow": null,
            "grid_auto_rows": null,
            "grid_column": null,
            "grid_gap": null,
            "grid_row": null,
            "grid_template_areas": null,
            "grid_template_columns": null,
            "grid_template_rows": null,
            "height": null,
            "justify_content": null,
            "justify_items": null,
            "left": null,
            "margin": null,
            "max_height": null,
            "max_width": null,
            "min_height": null,
            "min_width": null,
            "object_fit": null,
            "object_position": null,
            "order": null,
            "overflow": null,
            "overflow_x": null,
            "overflow_y": null,
            "padding": null,
            "right": null,
            "top": null,
            "visibility": null,
            "width": "20px"
          }
        },
        "41388f69ae6346ac9ffe44790f17939f": {
          "model_module": "@jupyter-widgets/controls",
          "model_name": "ProgressStyleModel",
          "model_module_version": "1.5.0",
          "state": {
            "_model_module": "@jupyter-widgets/controls",
            "_model_module_version": "1.5.0",
            "_model_name": "ProgressStyleModel",
            "_view_count": null,
            "_view_module": "@jupyter-widgets/base",
            "_view_module_version": "1.2.0",
            "_view_name": "StyleView",
            "bar_color": null,
            "description_width": ""
          }
        },
        "4b593c58aab949cea2a9bede98f055c3": {
          "model_module": "@jupyter-widgets/base",
          "model_name": "LayoutModel",
          "model_module_version": "1.2.0",
          "state": {
            "_model_module": "@jupyter-widgets/base",
            "_model_module_version": "1.2.0",
            "_model_name": "LayoutModel",
            "_view_count": null,
            "_view_module": "@jupyter-widgets/base",
            "_view_module_version": "1.2.0",
            "_view_name": "LayoutView",
            "align_content": null,
            "align_items": null,
            "align_self": null,
            "border": null,
            "bottom": null,
            "display": null,
            "flex": null,
            "flex_flow": null,
            "grid_area": null,
            "grid_auto_columns": null,
            "grid_auto_flow": null,
            "grid_auto_rows": null,
            "grid_column": null,
            "grid_gap": null,
            "grid_row": null,
            "grid_template_areas": null,
            "grid_template_columns": null,
            "grid_template_rows": null,
            "height": null,
            "justify_content": null,
            "justify_items": null,
            "left": null,
            "margin": null,
            "max_height": null,
            "max_width": null,
            "min_height": null,
            "min_width": null,
            "object_fit": null,
            "object_position": null,
            "order": null,
            "overflow": null,
            "overflow_x": null,
            "overflow_y": null,
            "padding": null,
            "right": null,
            "top": null,
            "visibility": null,
            "width": null
          }
        },
        "392f6c5978a8481daadad6229c79f9cd": {
          "model_module": "@jupyter-widgets/controls",
          "model_name": "DescriptionStyleModel",
          "model_module_version": "1.5.0",
          "state": {
            "_model_module": "@jupyter-widgets/controls",
            "_model_module_version": "1.5.0",
            "_model_name": "DescriptionStyleModel",
            "_view_count": null,
            "_view_module": "@jupyter-widgets/base",
            "_view_module_version": "1.2.0",
            "_view_name": "StyleView",
            "description_width": ""
          }
        },
        "f5412b5608a146f6999efd61e9c0de2d": {
          "model_module": "@jupyter-widgets/controls",
          "model_name": "HBoxModel",
          "model_module_version": "1.5.0",
          "state": {
            "_dom_classes": [],
            "_model_module": "@jupyter-widgets/controls",
            "_model_module_version": "1.5.0",
            "_model_name": "HBoxModel",
            "_view_count": null,
            "_view_module": "@jupyter-widgets/controls",
            "_view_module_version": "1.5.0",
            "_view_name": "HBoxView",
            "box_style": "",
            "children": [
              "IPY_MODEL_b0a33d2b0e1c45b79a23f90ee523e1ff",
              "IPY_MODEL_a9a6af745a64442f881e5aa3446e950a",
              "IPY_MODEL_029b4c8a4c6c4a59a5dbf103d52463c5"
            ],
            "layout": "IPY_MODEL_31c6d237bae94e0e895607123084d2b8"
          }
        },
        "b0a33d2b0e1c45b79a23f90ee523e1ff": {
          "model_module": "@jupyter-widgets/controls",
          "model_name": "HTMLModel",
          "model_module_version": "1.5.0",
          "state": {
            "_dom_classes": [],
            "_model_module": "@jupyter-widgets/controls",
            "_model_module_version": "1.5.0",
            "_model_name": "HTMLModel",
            "_view_count": null,
            "_view_module": "@jupyter-widgets/controls",
            "_view_module_version": "1.5.0",
            "_view_name": "HTMLView",
            "description": "",
            "description_tooltip": null,
            "layout": "IPY_MODEL_138397489c4b4463a0d902f7a2b0e70d",
            "placeholder": "​",
            "style": "IPY_MODEL_4d8bb64005b84d168d6fee55037a15d3",
            "value": "Dl Size...: 100%"
          }
        },
        "a9a6af745a64442f881e5aa3446e950a": {
          "model_module": "@jupyter-widgets/controls",
          "model_name": "FloatProgressModel",
          "model_module_version": "1.5.0",
          "state": {
            "_dom_classes": [],
            "_model_module": "@jupyter-widgets/controls",
            "_model_module_version": "1.5.0",
            "_model_name": "FloatProgressModel",
            "_view_count": null,
            "_view_module": "@jupyter-widgets/controls",
            "_view_module_version": "1.5.0",
            "_view_name": "ProgressView",
            "bar_style": "success",
            "description": "",
            "description_tooltip": null,
            "layout": "IPY_MODEL_f2b89bd809264f168eafd3d9eb71525d",
            "max": 1,
            "min": 0,
            "orientation": "horizontal",
            "style": "IPY_MODEL_ae84a06590f743ffb312f8cc30ecfe8a",
            "value": 1
          }
        },
        "029b4c8a4c6c4a59a5dbf103d52463c5": {
          "model_module": "@jupyter-widgets/controls",
          "model_name": "HTMLModel",
          "model_module_version": "1.5.0",
          "state": {
            "_dom_classes": [],
            "_model_module": "@jupyter-widgets/controls",
            "_model_module_version": "1.5.0",
            "_model_name": "HTMLModel",
            "_view_count": null,
            "_view_module": "@jupyter-widgets/controls",
            "_view_module_version": "1.5.0",
            "_view_name": "HTMLView",
            "description": "",
            "description_tooltip": null,
            "layout": "IPY_MODEL_d66c35c517f94315b5e7516a0d5d5656",
            "placeholder": "​",
            "style": "IPY_MODEL_c0414c07ff594c16afc593c303923384",
            "value": " 1971/1971 [03:43&lt;00:00, 27.60 MiB/s]"
          }
        },
        "31c6d237bae94e0e895607123084d2b8": {
          "model_module": "@jupyter-widgets/base",
          "model_name": "LayoutModel",
          "model_module_version": "1.2.0",
          "state": {
            "_model_module": "@jupyter-widgets/base",
            "_model_module_version": "1.2.0",
            "_model_name": "LayoutModel",
            "_view_count": null,
            "_view_module": "@jupyter-widgets/base",
            "_view_module_version": "1.2.0",
            "_view_name": "LayoutView",
            "align_content": null,
            "align_items": null,
            "align_self": null,
            "border": null,
            "bottom": null,
            "display": null,
            "flex": null,
            "flex_flow": null,
            "grid_area": null,
            "grid_auto_columns": null,
            "grid_auto_flow": null,
            "grid_auto_rows": null,
            "grid_column": null,
            "grid_gap": null,
            "grid_row": null,
            "grid_template_areas": null,
            "grid_template_columns": null,
            "grid_template_rows": null,
            "height": null,
            "justify_content": null,
            "justify_items": null,
            "left": null,
            "margin": null,
            "max_height": null,
            "max_width": null,
            "min_height": null,
            "min_width": null,
            "object_fit": null,
            "object_position": null,
            "order": null,
            "overflow": null,
            "overflow_x": null,
            "overflow_y": null,
            "padding": null,
            "right": null,
            "top": null,
            "visibility": null,
            "width": null
          }
        },
        "138397489c4b4463a0d902f7a2b0e70d": {
          "model_module": "@jupyter-widgets/base",
          "model_name": "LayoutModel",
          "model_module_version": "1.2.0",
          "state": {
            "_model_module": "@jupyter-widgets/base",
            "_model_module_version": "1.2.0",
            "_model_name": "LayoutModel",
            "_view_count": null,
            "_view_module": "@jupyter-widgets/base",
            "_view_module_version": "1.2.0",
            "_view_name": "LayoutView",
            "align_content": null,
            "align_items": null,
            "align_self": null,
            "border": null,
            "bottom": null,
            "display": null,
            "flex": null,
            "flex_flow": null,
            "grid_area": null,
            "grid_auto_columns": null,
            "grid_auto_flow": null,
            "grid_auto_rows": null,
            "grid_column": null,
            "grid_gap": null,
            "grid_row": null,
            "grid_template_areas": null,
            "grid_template_columns": null,
            "grid_template_rows": null,
            "height": null,
            "justify_content": null,
            "justify_items": null,
            "left": null,
            "margin": null,
            "max_height": null,
            "max_width": null,
            "min_height": null,
            "min_width": null,
            "object_fit": null,
            "object_position": null,
            "order": null,
            "overflow": null,
            "overflow_x": null,
            "overflow_y": null,
            "padding": null,
            "right": null,
            "top": null,
            "visibility": null,
            "width": null
          }
        },
        "4d8bb64005b84d168d6fee55037a15d3": {
          "model_module": "@jupyter-widgets/controls",
          "model_name": "DescriptionStyleModel",
          "model_module_version": "1.5.0",
          "state": {
            "_model_module": "@jupyter-widgets/controls",
            "_model_module_version": "1.5.0",
            "_model_name": "DescriptionStyleModel",
            "_view_count": null,
            "_view_module": "@jupyter-widgets/base",
            "_view_module_version": "1.2.0",
            "_view_name": "StyleView",
            "description_width": ""
          }
        },
        "f2b89bd809264f168eafd3d9eb71525d": {
          "model_module": "@jupyter-widgets/base",
          "model_name": "LayoutModel",
          "model_module_version": "1.2.0",
          "state": {
            "_model_module": "@jupyter-widgets/base",
            "_model_module_version": "1.2.0",
            "_model_name": "LayoutModel",
            "_view_count": null,
            "_view_module": "@jupyter-widgets/base",
            "_view_module_version": "1.2.0",
            "_view_name": "LayoutView",
            "align_content": null,
            "align_items": null,
            "align_self": null,
            "border": null,
            "bottom": null,
            "display": null,
            "flex": null,
            "flex_flow": null,
            "grid_area": null,
            "grid_auto_columns": null,
            "grid_auto_flow": null,
            "grid_auto_rows": null,
            "grid_column": null,
            "grid_gap": null,
            "grid_row": null,
            "grid_template_areas": null,
            "grid_template_columns": null,
            "grid_template_rows": null,
            "height": null,
            "justify_content": null,
            "justify_items": null,
            "left": null,
            "margin": null,
            "max_height": null,
            "max_width": null,
            "min_height": null,
            "min_width": null,
            "object_fit": null,
            "object_position": null,
            "order": null,
            "overflow": null,
            "overflow_x": null,
            "overflow_y": null,
            "padding": null,
            "right": null,
            "top": null,
            "visibility": null,
            "width": "20px"
          }
        },
        "ae84a06590f743ffb312f8cc30ecfe8a": {
          "model_module": "@jupyter-widgets/controls",
          "model_name": "ProgressStyleModel",
          "model_module_version": "1.5.0",
          "state": {
            "_model_module": "@jupyter-widgets/controls",
            "_model_module_version": "1.5.0",
            "_model_name": "ProgressStyleModel",
            "_view_count": null,
            "_view_module": "@jupyter-widgets/base",
            "_view_module_version": "1.2.0",
            "_view_name": "StyleView",
            "bar_color": null,
            "description_width": ""
          }
        },
        "d66c35c517f94315b5e7516a0d5d5656": {
          "model_module": "@jupyter-widgets/base",
          "model_name": "LayoutModel",
          "model_module_version": "1.2.0",
          "state": {
            "_model_module": "@jupyter-widgets/base",
            "_model_module_version": "1.2.0",
            "_model_name": "LayoutModel",
            "_view_count": null,
            "_view_module": "@jupyter-widgets/base",
            "_view_module_version": "1.2.0",
            "_view_name": "LayoutView",
            "align_content": null,
            "align_items": null,
            "align_self": null,
            "border": null,
            "bottom": null,
            "display": null,
            "flex": null,
            "flex_flow": null,
            "grid_area": null,
            "grid_auto_columns": null,
            "grid_auto_flow": null,
            "grid_auto_rows": null,
            "grid_column": null,
            "grid_gap": null,
            "grid_row": null,
            "grid_template_areas": null,
            "grid_template_columns": null,
            "grid_template_rows": null,
            "height": null,
            "justify_content": null,
            "justify_items": null,
            "left": null,
            "margin": null,
            "max_height": null,
            "max_width": null,
            "min_height": null,
            "min_width": null,
            "object_fit": null,
            "object_position": null,
            "order": null,
            "overflow": null,
            "overflow_x": null,
            "overflow_y": null,
            "padding": null,
            "right": null,
            "top": null,
            "visibility": null,
            "width": null
          }
        },
        "c0414c07ff594c16afc593c303923384": {
          "model_module": "@jupyter-widgets/controls",
          "model_name": "DescriptionStyleModel",
          "model_module_version": "1.5.0",
          "state": {
            "_model_module": "@jupyter-widgets/controls",
            "_model_module_version": "1.5.0",
            "_model_name": "DescriptionStyleModel",
            "_view_count": null,
            "_view_module": "@jupyter-widgets/base",
            "_view_module_version": "1.2.0",
            "_view_name": "StyleView",
            "description_width": ""
          }
        },
        "f45d2f2010f1426b9d49a3e11505c818": {
          "model_module": "@jupyter-widgets/controls",
          "model_name": "HBoxModel",
          "model_module_version": "1.5.0",
          "state": {
            "_dom_classes": [],
            "_model_module": "@jupyter-widgets/controls",
            "_model_module_version": "1.5.0",
            "_model_name": "HBoxModel",
            "_view_count": null,
            "_view_module": "@jupyter-widgets/controls",
            "_view_module_version": "1.5.0",
            "_view_name": "HBoxView",
            "box_style": "",
            "children": [
              "IPY_MODEL_b51b9adff9794e61873a3fa2eb7c6cfa",
              "IPY_MODEL_0acf49a12c4b4798bc76229490b25110",
              "IPY_MODEL_8b000ecd896b4b278993e02971a8e181"
            ],
            "layout": "IPY_MODEL_56b386b4da904b2284f2671f1a74e9b1"
          }
        },
        "b51b9adff9794e61873a3fa2eb7c6cfa": {
          "model_module": "@jupyter-widgets/controls",
          "model_name": "HTMLModel",
          "model_module_version": "1.5.0",
          "state": {
            "_dom_classes": [],
            "_model_module": "@jupyter-widgets/controls",
            "_model_module_version": "1.5.0",
            "_model_name": "HTMLModel",
            "_view_count": null,
            "_view_module": "@jupyter-widgets/controls",
            "_view_module_version": "1.5.0",
            "_view_name": "HTMLView",
            "description": "",
            "description_tooltip": null,
            "layout": "IPY_MODEL_095337b4c2e440aa8be993612697793f",
            "placeholder": "​",
            "style": "IPY_MODEL_fadebf92189943b49f13b9f92f91938c",
            "value": "Extraction completed...: 100%"
          }
        },
        "0acf49a12c4b4798bc76229490b25110": {
          "model_module": "@jupyter-widgets/controls",
          "model_name": "FloatProgressModel",
          "model_module_version": "1.5.0",
          "state": {
            "_dom_classes": [],
            "_model_module": "@jupyter-widgets/controls",
            "_model_module_version": "1.5.0",
            "_model_name": "FloatProgressModel",
            "_view_count": null,
            "_view_module": "@jupyter-widgets/controls",
            "_view_module_version": "1.5.0",
            "_view_name": "ProgressView",
            "bar_style": "success",
            "description": "",
            "description_tooltip": null,
            "layout": "IPY_MODEL_27da1804e39c48ec80cc633e74c5f2d4",
            "max": 1,
            "min": 0,
            "orientation": "horizontal",
            "style": "IPY_MODEL_1f34650f460745d9bc94d1babe20d715",
            "value": 1
          }
        },
        "8b000ecd896b4b278993e02971a8e181": {
          "model_module": "@jupyter-widgets/controls",
          "model_name": "HTMLModel",
          "model_module_version": "1.5.0",
          "state": {
            "_dom_classes": [],
            "_model_module": "@jupyter-widgets/controls",
            "_model_module_version": "1.5.0",
            "_model_name": "HTMLModel",
            "_view_count": null,
            "_view_module": "@jupyter-widgets/controls",
            "_view_module_version": "1.5.0",
            "_view_name": "HTMLView",
            "description": "",
            "description_tooltip": null,
            "layout": "IPY_MODEL_a4d77baee0244d378feda70cc4dee9ca",
            "placeholder": "​",
            "style": "IPY_MODEL_3326dcbe32e94f8082e0bc6e3324952a",
            "value": " 27000/27000 [03:43&lt;00:00, 1161.18 file/s]"
          }
        },
        "56b386b4da904b2284f2671f1a74e9b1": {
          "model_module": "@jupyter-widgets/base",
          "model_name": "LayoutModel",
          "model_module_version": "1.2.0",
          "state": {
            "_model_module": "@jupyter-widgets/base",
            "_model_module_version": "1.2.0",
            "_model_name": "LayoutModel",
            "_view_count": null,
            "_view_module": "@jupyter-widgets/base",
            "_view_module_version": "1.2.0",
            "_view_name": "LayoutView",
            "align_content": null,
            "align_items": null,
            "align_self": null,
            "border": null,
            "bottom": null,
            "display": null,
            "flex": null,
            "flex_flow": null,
            "grid_area": null,
            "grid_auto_columns": null,
            "grid_auto_flow": null,
            "grid_auto_rows": null,
            "grid_column": null,
            "grid_gap": null,
            "grid_row": null,
            "grid_template_areas": null,
            "grid_template_columns": null,
            "grid_template_rows": null,
            "height": null,
            "justify_content": null,
            "justify_items": null,
            "left": null,
            "margin": null,
            "max_height": null,
            "max_width": null,
            "min_height": null,
            "min_width": null,
            "object_fit": null,
            "object_position": null,
            "order": null,
            "overflow": null,
            "overflow_x": null,
            "overflow_y": null,
            "padding": null,
            "right": null,
            "top": null,
            "visibility": null,
            "width": null
          }
        },
        "095337b4c2e440aa8be993612697793f": {
          "model_module": "@jupyter-widgets/base",
          "model_name": "LayoutModel",
          "model_module_version": "1.2.0",
          "state": {
            "_model_module": "@jupyter-widgets/base",
            "_model_module_version": "1.2.0",
            "_model_name": "LayoutModel",
            "_view_count": null,
            "_view_module": "@jupyter-widgets/base",
            "_view_module_version": "1.2.0",
            "_view_name": "LayoutView",
            "align_content": null,
            "align_items": null,
            "align_self": null,
            "border": null,
            "bottom": null,
            "display": null,
            "flex": null,
            "flex_flow": null,
            "grid_area": null,
            "grid_auto_columns": null,
            "grid_auto_flow": null,
            "grid_auto_rows": null,
            "grid_column": null,
            "grid_gap": null,
            "grid_row": null,
            "grid_template_areas": null,
            "grid_template_columns": null,
            "grid_template_rows": null,
            "height": null,
            "justify_content": null,
            "justify_items": null,
            "left": null,
            "margin": null,
            "max_height": null,
            "max_width": null,
            "min_height": null,
            "min_width": null,
            "object_fit": null,
            "object_position": null,
            "order": null,
            "overflow": null,
            "overflow_x": null,
            "overflow_y": null,
            "padding": null,
            "right": null,
            "top": null,
            "visibility": null,
            "width": null
          }
        },
        "fadebf92189943b49f13b9f92f91938c": {
          "model_module": "@jupyter-widgets/controls",
          "model_name": "DescriptionStyleModel",
          "model_module_version": "1.5.0",
          "state": {
            "_model_module": "@jupyter-widgets/controls",
            "_model_module_version": "1.5.0",
            "_model_name": "DescriptionStyleModel",
            "_view_count": null,
            "_view_module": "@jupyter-widgets/base",
            "_view_module_version": "1.2.0",
            "_view_name": "StyleView",
            "description_width": ""
          }
        },
        "27da1804e39c48ec80cc633e74c5f2d4": {
          "model_module": "@jupyter-widgets/base",
          "model_name": "LayoutModel",
          "model_module_version": "1.2.0",
          "state": {
            "_model_module": "@jupyter-widgets/base",
            "_model_module_version": "1.2.0",
            "_model_name": "LayoutModel",
            "_view_count": null,
            "_view_module": "@jupyter-widgets/base",
            "_view_module_version": "1.2.0",
            "_view_name": "LayoutView",
            "align_content": null,
            "align_items": null,
            "align_self": null,
            "border": null,
            "bottom": null,
            "display": null,
            "flex": null,
            "flex_flow": null,
            "grid_area": null,
            "grid_auto_columns": null,
            "grid_auto_flow": null,
            "grid_auto_rows": null,
            "grid_column": null,
            "grid_gap": null,
            "grid_row": null,
            "grid_template_areas": null,
            "grid_template_columns": null,
            "grid_template_rows": null,
            "height": null,
            "justify_content": null,
            "justify_items": null,
            "left": null,
            "margin": null,
            "max_height": null,
            "max_width": null,
            "min_height": null,
            "min_width": null,
            "object_fit": null,
            "object_position": null,
            "order": null,
            "overflow": null,
            "overflow_x": null,
            "overflow_y": null,
            "padding": null,
            "right": null,
            "top": null,
            "visibility": null,
            "width": "20px"
          }
        },
        "1f34650f460745d9bc94d1babe20d715": {
          "model_module": "@jupyter-widgets/controls",
          "model_name": "ProgressStyleModel",
          "model_module_version": "1.5.0",
          "state": {
            "_model_module": "@jupyter-widgets/controls",
            "_model_module_version": "1.5.0",
            "_model_name": "ProgressStyleModel",
            "_view_count": null,
            "_view_module": "@jupyter-widgets/base",
            "_view_module_version": "1.2.0",
            "_view_name": "StyleView",
            "bar_color": null,
            "description_width": ""
          }
        },
        "a4d77baee0244d378feda70cc4dee9ca": {
          "model_module": "@jupyter-widgets/base",
          "model_name": "LayoutModel",
          "model_module_version": "1.2.0",
          "state": {
            "_model_module": "@jupyter-widgets/base",
            "_model_module_version": "1.2.0",
            "_model_name": "LayoutModel",
            "_view_count": null,
            "_view_module": "@jupyter-widgets/base",
            "_view_module_version": "1.2.0",
            "_view_name": "LayoutView",
            "align_content": null,
            "align_items": null,
            "align_self": null,
            "border": null,
            "bottom": null,
            "display": null,
            "flex": null,
            "flex_flow": null,
            "grid_area": null,
            "grid_auto_columns": null,
            "grid_auto_flow": null,
            "grid_auto_rows": null,
            "grid_column": null,
            "grid_gap": null,
            "grid_row": null,
            "grid_template_areas": null,
            "grid_template_columns": null,
            "grid_template_rows": null,
            "height": null,
            "justify_content": null,
            "justify_items": null,
            "left": null,
            "margin": null,
            "max_height": null,
            "max_width": null,
            "min_height": null,
            "min_width": null,
            "object_fit": null,
            "object_position": null,
            "order": null,
            "overflow": null,
            "overflow_x": null,
            "overflow_y": null,
            "padding": null,
            "right": null,
            "top": null,
            "visibility": null,
            "width": null
          }
        },
        "3326dcbe32e94f8082e0bc6e3324952a": {
          "model_module": "@jupyter-widgets/controls",
          "model_name": "DescriptionStyleModel",
          "model_module_version": "1.5.0",
          "state": {
            "_model_module": "@jupyter-widgets/controls",
            "_model_module_version": "1.5.0",
            "_model_name": "DescriptionStyleModel",
            "_view_count": null,
            "_view_module": "@jupyter-widgets/base",
            "_view_module_version": "1.2.0",
            "_view_name": "StyleView",
            "description_width": ""
          }
        },
        "4bf274b4dcee4b659ebe709e5bef36a7": {
          "model_module": "@jupyter-widgets/controls",
          "model_name": "HBoxModel",
          "model_module_version": "1.5.0",
          "state": {
            "_dom_classes": [],
            "_model_module": "@jupyter-widgets/controls",
            "_model_module_version": "1.5.0",
            "_model_name": "HBoxModel",
            "_view_count": null,
            "_view_module": "@jupyter-widgets/controls",
            "_view_module_version": "1.5.0",
            "_view_name": "HBoxView",
            "box_style": "",
            "children": [
              "IPY_MODEL_5a995f00999d4b078de3c693bacc6cac",
              "IPY_MODEL_e039f2e15b9d4238989f74a4b5b81c48",
              "IPY_MODEL_67778b037a7b44f8ab2d6b965576093c"
            ],
            "layout": "IPY_MODEL_285456aecec545f0a0be9f7c851088fc"
          }
        },
        "5a995f00999d4b078de3c693bacc6cac": {
          "model_module": "@jupyter-widgets/controls",
          "model_name": "HTMLModel",
          "model_module_version": "1.5.0",
          "state": {
            "_dom_classes": [],
            "_model_module": "@jupyter-widgets/controls",
            "_model_module_version": "1.5.0",
            "_model_name": "HTMLModel",
            "_view_count": null,
            "_view_module": "@jupyter-widgets/controls",
            "_view_module_version": "1.5.0",
            "_view_name": "HTMLView",
            "description": "",
            "description_tooltip": null,
            "layout": "IPY_MODEL_fb880bd6087c4680bdd7f57f120478fd",
            "placeholder": "​",
            "style": "IPY_MODEL_84b287f8566c41a4a2aa0f6268cef633",
            "value": "Generating splits...: 100%"
          }
        },
        "e039f2e15b9d4238989f74a4b5b81c48": {
          "model_module": "@jupyter-widgets/controls",
          "model_name": "FloatProgressModel",
          "model_module_version": "1.5.0",
          "state": {
            "_dom_classes": [],
            "_model_module": "@jupyter-widgets/controls",
            "_model_module_version": "1.5.0",
            "_model_name": "FloatProgressModel",
            "_view_count": null,
            "_view_module": "@jupyter-widgets/controls",
            "_view_module_version": "1.5.0",
            "_view_name": "ProgressView",
            "bar_style": "",
            "description": "",
            "description_tooltip": null,
            "layout": "IPY_MODEL_5d110ab0f82347788943755db5d0c32f",
            "max": 1,
            "min": 0,
            "orientation": "horizontal",
            "style": "IPY_MODEL_550453b605fe4abba0859d02fb800eaf",
            "value": 1
          }
        },
        "67778b037a7b44f8ab2d6b965576093c": {
          "model_module": "@jupyter-widgets/controls",
          "model_name": "HTMLModel",
          "model_module_version": "1.5.0",
          "state": {
            "_dom_classes": [],
            "_model_module": "@jupyter-widgets/controls",
            "_model_module_version": "1.5.0",
            "_model_name": "HTMLModel",
            "_view_count": null,
            "_view_module": "@jupyter-widgets/controls",
            "_view_module_version": "1.5.0",
            "_view_name": "HTMLView",
            "description": "",
            "description_tooltip": null,
            "layout": "IPY_MODEL_8fd59b2201714d9181324ee26d175dbf",
            "placeholder": "​",
            "style": "IPY_MODEL_10739da9e61145239e09ef99b215961f",
            "value": " 1/1 [11:32&lt;00:00, 692.06s/ splits]"
          }
        },
        "285456aecec545f0a0be9f7c851088fc": {
          "model_module": "@jupyter-widgets/base",
          "model_name": "LayoutModel",
          "model_module_version": "1.2.0",
          "state": {
            "_model_module": "@jupyter-widgets/base",
            "_model_module_version": "1.2.0",
            "_model_name": "LayoutModel",
            "_view_count": null,
            "_view_module": "@jupyter-widgets/base",
            "_view_module_version": "1.2.0",
            "_view_name": "LayoutView",
            "align_content": null,
            "align_items": null,
            "align_self": null,
            "border": null,
            "bottom": null,
            "display": null,
            "flex": null,
            "flex_flow": null,
            "grid_area": null,
            "grid_auto_columns": null,
            "grid_auto_flow": null,
            "grid_auto_rows": null,
            "grid_column": null,
            "grid_gap": null,
            "grid_row": null,
            "grid_template_areas": null,
            "grid_template_columns": null,
            "grid_template_rows": null,
            "height": null,
            "justify_content": null,
            "justify_items": null,
            "left": null,
            "margin": null,
            "max_height": null,
            "max_width": null,
            "min_height": null,
            "min_width": null,
            "object_fit": null,
            "object_position": null,
            "order": null,
            "overflow": null,
            "overflow_x": null,
            "overflow_y": null,
            "padding": null,
            "right": null,
            "top": null,
            "visibility": "hidden",
            "width": null
          }
        },
        "fb880bd6087c4680bdd7f57f120478fd": {
          "model_module": "@jupyter-widgets/base",
          "model_name": "LayoutModel",
          "model_module_version": "1.2.0",
          "state": {
            "_model_module": "@jupyter-widgets/base",
            "_model_module_version": "1.2.0",
            "_model_name": "LayoutModel",
            "_view_count": null,
            "_view_module": "@jupyter-widgets/base",
            "_view_module_version": "1.2.0",
            "_view_name": "LayoutView",
            "align_content": null,
            "align_items": null,
            "align_self": null,
            "border": null,
            "bottom": null,
            "display": null,
            "flex": null,
            "flex_flow": null,
            "grid_area": null,
            "grid_auto_columns": null,
            "grid_auto_flow": null,
            "grid_auto_rows": null,
            "grid_column": null,
            "grid_gap": null,
            "grid_row": null,
            "grid_template_areas": null,
            "grid_template_columns": null,
            "grid_template_rows": null,
            "height": null,
            "justify_content": null,
            "justify_items": null,
            "left": null,
            "margin": null,
            "max_height": null,
            "max_width": null,
            "min_height": null,
            "min_width": null,
            "object_fit": null,
            "object_position": null,
            "order": null,
            "overflow": null,
            "overflow_x": null,
            "overflow_y": null,
            "padding": null,
            "right": null,
            "top": null,
            "visibility": null,
            "width": null
          }
        },
        "84b287f8566c41a4a2aa0f6268cef633": {
          "model_module": "@jupyter-widgets/controls",
          "model_name": "DescriptionStyleModel",
          "model_module_version": "1.5.0",
          "state": {
            "_model_module": "@jupyter-widgets/controls",
            "_model_module_version": "1.5.0",
            "_model_name": "DescriptionStyleModel",
            "_view_count": null,
            "_view_module": "@jupyter-widgets/base",
            "_view_module_version": "1.2.0",
            "_view_name": "StyleView",
            "description_width": ""
          }
        },
        "5d110ab0f82347788943755db5d0c32f": {
          "model_module": "@jupyter-widgets/base",
          "model_name": "LayoutModel",
          "model_module_version": "1.2.0",
          "state": {
            "_model_module": "@jupyter-widgets/base",
            "_model_module_version": "1.2.0",
            "_model_name": "LayoutModel",
            "_view_count": null,
            "_view_module": "@jupyter-widgets/base",
            "_view_module_version": "1.2.0",
            "_view_name": "LayoutView",
            "align_content": null,
            "align_items": null,
            "align_self": null,
            "border": null,
            "bottom": null,
            "display": null,
            "flex": null,
            "flex_flow": null,
            "grid_area": null,
            "grid_auto_columns": null,
            "grid_auto_flow": null,
            "grid_auto_rows": null,
            "grid_column": null,
            "grid_gap": null,
            "grid_row": null,
            "grid_template_areas": null,
            "grid_template_columns": null,
            "grid_template_rows": null,
            "height": null,
            "justify_content": null,
            "justify_items": null,
            "left": null,
            "margin": null,
            "max_height": null,
            "max_width": null,
            "min_height": null,
            "min_width": null,
            "object_fit": null,
            "object_position": null,
            "order": null,
            "overflow": null,
            "overflow_x": null,
            "overflow_y": null,
            "padding": null,
            "right": null,
            "top": null,
            "visibility": null,
            "width": null
          }
        },
        "550453b605fe4abba0859d02fb800eaf": {
          "model_module": "@jupyter-widgets/controls",
          "model_name": "ProgressStyleModel",
          "model_module_version": "1.5.0",
          "state": {
            "_model_module": "@jupyter-widgets/controls",
            "_model_module_version": "1.5.0",
            "_model_name": "ProgressStyleModel",
            "_view_count": null,
            "_view_module": "@jupyter-widgets/base",
            "_view_module_version": "1.2.0",
            "_view_name": "StyleView",
            "bar_color": null,
            "description_width": ""
          }
        },
        "8fd59b2201714d9181324ee26d175dbf": {
          "model_module": "@jupyter-widgets/base",
          "model_name": "LayoutModel",
          "model_module_version": "1.2.0",
          "state": {
            "_model_module": "@jupyter-widgets/base",
            "_model_module_version": "1.2.0",
            "_model_name": "LayoutModel",
            "_view_count": null,
            "_view_module": "@jupyter-widgets/base",
            "_view_module_version": "1.2.0",
            "_view_name": "LayoutView",
            "align_content": null,
            "align_items": null,
            "align_self": null,
            "border": null,
            "bottom": null,
            "display": null,
            "flex": null,
            "flex_flow": null,
            "grid_area": null,
            "grid_auto_columns": null,
            "grid_auto_flow": null,
            "grid_auto_rows": null,
            "grid_column": null,
            "grid_gap": null,
            "grid_row": null,
            "grid_template_areas": null,
            "grid_template_columns": null,
            "grid_template_rows": null,
            "height": null,
            "justify_content": null,
            "justify_items": null,
            "left": null,
            "margin": null,
            "max_height": null,
            "max_width": null,
            "min_height": null,
            "min_width": null,
            "object_fit": null,
            "object_position": null,
            "order": null,
            "overflow": null,
            "overflow_x": null,
            "overflow_y": null,
            "padding": null,
            "right": null,
            "top": null,
            "visibility": null,
            "width": null
          }
        },
        "10739da9e61145239e09ef99b215961f": {
          "model_module": "@jupyter-widgets/controls",
          "model_name": "DescriptionStyleModel",
          "model_module_version": "1.5.0",
          "state": {
            "_model_module": "@jupyter-widgets/controls",
            "_model_module_version": "1.5.0",
            "_model_name": "DescriptionStyleModel",
            "_view_count": null,
            "_view_module": "@jupyter-widgets/base",
            "_view_module_version": "1.2.0",
            "_view_name": "StyleView",
            "description_width": ""
          }
        },
        "69adf17bc3fb4bdeb6f3b5985ad461a0": {
          "model_module": "@jupyter-widgets/controls",
          "model_name": "HBoxModel",
          "model_module_version": "1.5.0",
          "state": {
            "_dom_classes": [],
            "_model_module": "@jupyter-widgets/controls",
            "_model_module_version": "1.5.0",
            "_model_name": "HBoxModel",
            "_view_count": null,
            "_view_module": "@jupyter-widgets/controls",
            "_view_module_version": "1.5.0",
            "_view_name": "HBoxView",
            "box_style": "",
            "children": [
              "IPY_MODEL_afa1ba0541044f328bfb76e3733153c5",
              "IPY_MODEL_f75dd2841ca347ec80c6b5af763825f1",
              "IPY_MODEL_86952784b0d54c74816411a6d3fb067d"
            ],
            "layout": "IPY_MODEL_8899e171de5e4466ad1e23c6b176dade"
          }
        },
        "afa1ba0541044f328bfb76e3733153c5": {
          "model_module": "@jupyter-widgets/controls",
          "model_name": "HTMLModel",
          "model_module_version": "1.5.0",
          "state": {
            "_dom_classes": [],
            "_model_module": "@jupyter-widgets/controls",
            "_model_module_version": "1.5.0",
            "_model_name": "HTMLModel",
            "_view_count": null,
            "_view_module": "@jupyter-widgets/controls",
            "_view_module_version": "1.5.0",
            "_view_name": "HTMLView",
            "description": "",
            "description_tooltip": null,
            "layout": "IPY_MODEL_c026f89449d24c22a6c024057e997985",
            "placeholder": "​",
            "style": "IPY_MODEL_0cfe2d1ffc424bf58521ed6d006c999d",
            "value": "Generating train examples...: 100%"
          }
        },
        "f75dd2841ca347ec80c6b5af763825f1": {
          "model_module": "@jupyter-widgets/controls",
          "model_name": "FloatProgressModel",
          "model_module_version": "1.5.0",
          "state": {
            "_dom_classes": [],
            "_model_module": "@jupyter-widgets/controls",
            "_model_module_version": "1.5.0",
            "_model_name": "FloatProgressModel",
            "_view_count": null,
            "_view_module": "@jupyter-widgets/controls",
            "_view_module_version": "1.5.0",
            "_view_name": "ProgressView",
            "bar_style": "",
            "description": "",
            "description_tooltip": null,
            "layout": "IPY_MODEL_213561385b0142c697cc3e92e2495b1e",
            "max": 27000,
            "min": 0,
            "orientation": "horizontal",
            "style": "IPY_MODEL_89ae347a828a41388d491468e7ed2206",
            "value": 27000
          }
        },
        "86952784b0d54c74816411a6d3fb067d": {
          "model_module": "@jupyter-widgets/controls",
          "model_name": "HTMLModel",
          "model_module_version": "1.5.0",
          "state": {
            "_dom_classes": [],
            "_model_module": "@jupyter-widgets/controls",
            "_model_module_version": "1.5.0",
            "_model_name": "HTMLModel",
            "_view_count": null,
            "_view_module": "@jupyter-widgets/controls",
            "_view_module_version": "1.5.0",
            "_view_name": "HTMLView",
            "description": "",
            "description_tooltip": null,
            "layout": "IPY_MODEL_c6a573ac3b6c4f7f82ea044f266e7c38",
            "placeholder": "​",
            "style": "IPY_MODEL_6817d69718cc4d8fa032caa1765def94",
            "value": " 26991/27000 [10:24&lt;00:00, 40.23 examples/s]"
          }
        },
        "8899e171de5e4466ad1e23c6b176dade": {
          "model_module": "@jupyter-widgets/base",
          "model_name": "LayoutModel",
          "model_module_version": "1.2.0",
          "state": {
            "_model_module": "@jupyter-widgets/base",
            "_model_module_version": "1.2.0",
            "_model_name": "LayoutModel",
            "_view_count": null,
            "_view_module": "@jupyter-widgets/base",
            "_view_module_version": "1.2.0",
            "_view_name": "LayoutView",
            "align_content": null,
            "align_items": null,
            "align_self": null,
            "border": null,
            "bottom": null,
            "display": null,
            "flex": null,
            "flex_flow": null,
            "grid_area": null,
            "grid_auto_columns": null,
            "grid_auto_flow": null,
            "grid_auto_rows": null,
            "grid_column": null,
            "grid_gap": null,
            "grid_row": null,
            "grid_template_areas": null,
            "grid_template_columns": null,
            "grid_template_rows": null,
            "height": null,
            "justify_content": null,
            "justify_items": null,
            "left": null,
            "margin": null,
            "max_height": null,
            "max_width": null,
            "min_height": null,
            "min_width": null,
            "object_fit": null,
            "object_position": null,
            "order": null,
            "overflow": null,
            "overflow_x": null,
            "overflow_y": null,
            "padding": null,
            "right": null,
            "top": null,
            "visibility": "hidden",
            "width": null
          }
        },
        "c026f89449d24c22a6c024057e997985": {
          "model_module": "@jupyter-widgets/base",
          "model_name": "LayoutModel",
          "model_module_version": "1.2.0",
          "state": {
            "_model_module": "@jupyter-widgets/base",
            "_model_module_version": "1.2.0",
            "_model_name": "LayoutModel",
            "_view_count": null,
            "_view_module": "@jupyter-widgets/base",
            "_view_module_version": "1.2.0",
            "_view_name": "LayoutView",
            "align_content": null,
            "align_items": null,
            "align_self": null,
            "border": null,
            "bottom": null,
            "display": null,
            "flex": null,
            "flex_flow": null,
            "grid_area": null,
            "grid_auto_columns": null,
            "grid_auto_flow": null,
            "grid_auto_rows": null,
            "grid_column": null,
            "grid_gap": null,
            "grid_row": null,
            "grid_template_areas": null,
            "grid_template_columns": null,
            "grid_template_rows": null,
            "height": null,
            "justify_content": null,
            "justify_items": null,
            "left": null,
            "margin": null,
            "max_height": null,
            "max_width": null,
            "min_height": null,
            "min_width": null,
            "object_fit": null,
            "object_position": null,
            "order": null,
            "overflow": null,
            "overflow_x": null,
            "overflow_y": null,
            "padding": null,
            "right": null,
            "top": null,
            "visibility": null,
            "width": null
          }
        },
        "0cfe2d1ffc424bf58521ed6d006c999d": {
          "model_module": "@jupyter-widgets/controls",
          "model_name": "DescriptionStyleModel",
          "model_module_version": "1.5.0",
          "state": {
            "_model_module": "@jupyter-widgets/controls",
            "_model_module_version": "1.5.0",
            "_model_name": "DescriptionStyleModel",
            "_view_count": null,
            "_view_module": "@jupyter-widgets/base",
            "_view_module_version": "1.2.0",
            "_view_name": "StyleView",
            "description_width": ""
          }
        },
        "213561385b0142c697cc3e92e2495b1e": {
          "model_module": "@jupyter-widgets/base",
          "model_name": "LayoutModel",
          "model_module_version": "1.2.0",
          "state": {
            "_model_module": "@jupyter-widgets/base",
            "_model_module_version": "1.2.0",
            "_model_name": "LayoutModel",
            "_view_count": null,
            "_view_module": "@jupyter-widgets/base",
            "_view_module_version": "1.2.0",
            "_view_name": "LayoutView",
            "align_content": null,
            "align_items": null,
            "align_self": null,
            "border": null,
            "bottom": null,
            "display": null,
            "flex": null,
            "flex_flow": null,
            "grid_area": null,
            "grid_auto_columns": null,
            "grid_auto_flow": null,
            "grid_auto_rows": null,
            "grid_column": null,
            "grid_gap": null,
            "grid_row": null,
            "grid_template_areas": null,
            "grid_template_columns": null,
            "grid_template_rows": null,
            "height": null,
            "justify_content": null,
            "justify_items": null,
            "left": null,
            "margin": null,
            "max_height": null,
            "max_width": null,
            "min_height": null,
            "min_width": null,
            "object_fit": null,
            "object_position": null,
            "order": null,
            "overflow": null,
            "overflow_x": null,
            "overflow_y": null,
            "padding": null,
            "right": null,
            "top": null,
            "visibility": null,
            "width": null
          }
        },
        "89ae347a828a41388d491468e7ed2206": {
          "model_module": "@jupyter-widgets/controls",
          "model_name": "ProgressStyleModel",
          "model_module_version": "1.5.0",
          "state": {
            "_model_module": "@jupyter-widgets/controls",
            "_model_module_version": "1.5.0",
            "_model_name": "ProgressStyleModel",
            "_view_count": null,
            "_view_module": "@jupyter-widgets/base",
            "_view_module_version": "1.2.0",
            "_view_name": "StyleView",
            "bar_color": null,
            "description_width": ""
          }
        },
        "c6a573ac3b6c4f7f82ea044f266e7c38": {
          "model_module": "@jupyter-widgets/base",
          "model_name": "LayoutModel",
          "model_module_version": "1.2.0",
          "state": {
            "_model_module": "@jupyter-widgets/base",
            "_model_module_version": "1.2.0",
            "_model_name": "LayoutModel",
            "_view_count": null,
            "_view_module": "@jupyter-widgets/base",
            "_view_module_version": "1.2.0",
            "_view_name": "LayoutView",
            "align_content": null,
            "align_items": null,
            "align_self": null,
            "border": null,
            "bottom": null,
            "display": null,
            "flex": null,
            "flex_flow": null,
            "grid_area": null,
            "grid_auto_columns": null,
            "grid_auto_flow": null,
            "grid_auto_rows": null,
            "grid_column": null,
            "grid_gap": null,
            "grid_row": null,
            "grid_template_areas": null,
            "grid_template_columns": null,
            "grid_template_rows": null,
            "height": null,
            "justify_content": null,
            "justify_items": null,
            "left": null,
            "margin": null,
            "max_height": null,
            "max_width": null,
            "min_height": null,
            "min_width": null,
            "object_fit": null,
            "object_position": null,
            "order": null,
            "overflow": null,
            "overflow_x": null,
            "overflow_y": null,
            "padding": null,
            "right": null,
            "top": null,
            "visibility": null,
            "width": null
          }
        },
        "6817d69718cc4d8fa032caa1765def94": {
          "model_module": "@jupyter-widgets/controls",
          "model_name": "DescriptionStyleModel",
          "model_module_version": "1.5.0",
          "state": {
            "_model_module": "@jupyter-widgets/controls",
            "_model_module_version": "1.5.0",
            "_model_name": "DescriptionStyleModel",
            "_view_count": null,
            "_view_module": "@jupyter-widgets/base",
            "_view_module_version": "1.2.0",
            "_view_name": "StyleView",
            "description_width": ""
          }
        },
        "62bc209ac8ea4e108d5e2cb426263cb5": {
          "model_module": "@jupyter-widgets/controls",
          "model_name": "HBoxModel",
          "model_module_version": "1.5.0",
          "state": {
            "_dom_classes": [],
            "_model_module": "@jupyter-widgets/controls",
            "_model_module_version": "1.5.0",
            "_model_name": "HBoxModel",
            "_view_count": null,
            "_view_module": "@jupyter-widgets/controls",
            "_view_module_version": "1.5.0",
            "_view_name": "HBoxView",
            "box_style": "",
            "children": [
              "IPY_MODEL_a6a3270b33254b608a51b3920bbf914b",
              "IPY_MODEL_c0a655b3bfbc4a21bdd011deef4da994",
              "IPY_MODEL_b1b353000b824ba1b9b43f2e485c68da"
            ],
            "layout": "IPY_MODEL_180ffb1ff21a49cab6f7f7b25b2543b9"
          }
        },
        "a6a3270b33254b608a51b3920bbf914b": {
          "model_module": "@jupyter-widgets/controls",
          "model_name": "HTMLModel",
          "model_module_version": "1.5.0",
          "state": {
            "_dom_classes": [],
            "_model_module": "@jupyter-widgets/controls",
            "_model_module_version": "1.5.0",
            "_model_name": "HTMLModel",
            "_view_count": null,
            "_view_module": "@jupyter-widgets/controls",
            "_view_module_version": "1.5.0",
            "_view_name": "HTMLView",
            "description": "",
            "description_tooltip": null,
            "layout": "IPY_MODEL_c57508fc7f0e495198bf18ab5ec2bb52",
            "placeholder": "​",
            "style": "IPY_MODEL_870be65a23b6422caeb6248341a3e5af",
            "value": "Shuffling /root/tensorflow_datasets/eurosat/all/incomplete.04Q551_2.0.0/eurosat-train.tfrecord*...:  99%"
          }
        },
        "c0a655b3bfbc4a21bdd011deef4da994": {
          "model_module": "@jupyter-widgets/controls",
          "model_name": "FloatProgressModel",
          "model_module_version": "1.5.0",
          "state": {
            "_dom_classes": [],
            "_model_module": "@jupyter-widgets/controls",
            "_model_module_version": "1.5.0",
            "_model_name": "FloatProgressModel",
            "_view_count": null,
            "_view_module": "@jupyter-widgets/controls",
            "_view_module_version": "1.5.0",
            "_view_name": "ProgressView",
            "bar_style": "",
            "description": "",
            "description_tooltip": null,
            "layout": "IPY_MODEL_cfac1ee0fb034240b763f7c033813ee9",
            "max": 27000,
            "min": 0,
            "orientation": "horizontal",
            "style": "IPY_MODEL_2271144caaed41bc9ae57f04ed896203",
            "value": 27000
          }
        },
        "b1b353000b824ba1b9b43f2e485c68da": {
          "model_module": "@jupyter-widgets/controls",
          "model_name": "HTMLModel",
          "model_module_version": "1.5.0",
          "state": {
            "_dom_classes": [],
            "_model_module": "@jupyter-widgets/controls",
            "_model_module_version": "1.5.0",
            "_model_name": "HTMLModel",
            "_view_count": null,
            "_view_module": "@jupyter-widgets/controls",
            "_view_module_version": "1.5.0",
            "_view_name": "HTMLView",
            "description": "",
            "description_tooltip": null,
            "layout": "IPY_MODEL_41ff2c1b048345a3ab79d360707f56f2",
            "placeholder": "​",
            "style": "IPY_MODEL_b8cdf5888db84d2cbd04784b7c63fa06",
            "value": " 26605/27000 [01:05&lt;00:01, 246.59 examples/s]"
          }
        },
        "180ffb1ff21a49cab6f7f7b25b2543b9": {
          "model_module": "@jupyter-widgets/base",
          "model_name": "LayoutModel",
          "model_module_version": "1.2.0",
          "state": {
            "_model_module": "@jupyter-widgets/base",
            "_model_module_version": "1.2.0",
            "_model_name": "LayoutModel",
            "_view_count": null,
            "_view_module": "@jupyter-widgets/base",
            "_view_module_version": "1.2.0",
            "_view_name": "LayoutView",
            "align_content": null,
            "align_items": null,
            "align_self": null,
            "border": null,
            "bottom": null,
            "display": null,
            "flex": null,
            "flex_flow": null,
            "grid_area": null,
            "grid_auto_columns": null,
            "grid_auto_flow": null,
            "grid_auto_rows": null,
            "grid_column": null,
            "grid_gap": null,
            "grid_row": null,
            "grid_template_areas": null,
            "grid_template_columns": null,
            "grid_template_rows": null,
            "height": null,
            "justify_content": null,
            "justify_items": null,
            "left": null,
            "margin": null,
            "max_height": null,
            "max_width": null,
            "min_height": null,
            "min_width": null,
            "object_fit": null,
            "object_position": null,
            "order": null,
            "overflow": null,
            "overflow_x": null,
            "overflow_y": null,
            "padding": null,
            "right": null,
            "top": null,
            "visibility": "hidden",
            "width": null
          }
        },
        "c57508fc7f0e495198bf18ab5ec2bb52": {
          "model_module": "@jupyter-widgets/base",
          "model_name": "LayoutModel",
          "model_module_version": "1.2.0",
          "state": {
            "_model_module": "@jupyter-widgets/base",
            "_model_module_version": "1.2.0",
            "_model_name": "LayoutModel",
            "_view_count": null,
            "_view_module": "@jupyter-widgets/base",
            "_view_module_version": "1.2.0",
            "_view_name": "LayoutView",
            "align_content": null,
            "align_items": null,
            "align_self": null,
            "border": null,
            "bottom": null,
            "display": null,
            "flex": null,
            "flex_flow": null,
            "grid_area": null,
            "grid_auto_columns": null,
            "grid_auto_flow": null,
            "grid_auto_rows": null,
            "grid_column": null,
            "grid_gap": null,
            "grid_row": null,
            "grid_template_areas": null,
            "grid_template_columns": null,
            "grid_template_rows": null,
            "height": null,
            "justify_content": null,
            "justify_items": null,
            "left": null,
            "margin": null,
            "max_height": null,
            "max_width": null,
            "min_height": null,
            "min_width": null,
            "object_fit": null,
            "object_position": null,
            "order": null,
            "overflow": null,
            "overflow_x": null,
            "overflow_y": null,
            "padding": null,
            "right": null,
            "top": null,
            "visibility": null,
            "width": null
          }
        },
        "870be65a23b6422caeb6248341a3e5af": {
          "model_module": "@jupyter-widgets/controls",
          "model_name": "DescriptionStyleModel",
          "model_module_version": "1.5.0",
          "state": {
            "_model_module": "@jupyter-widgets/controls",
            "_model_module_version": "1.5.0",
            "_model_name": "DescriptionStyleModel",
            "_view_count": null,
            "_view_module": "@jupyter-widgets/base",
            "_view_module_version": "1.2.0",
            "_view_name": "StyleView",
            "description_width": ""
          }
        },
        "cfac1ee0fb034240b763f7c033813ee9": {
          "model_module": "@jupyter-widgets/base",
          "model_name": "LayoutModel",
          "model_module_version": "1.2.0",
          "state": {
            "_model_module": "@jupyter-widgets/base",
            "_model_module_version": "1.2.0",
            "_model_name": "LayoutModel",
            "_view_count": null,
            "_view_module": "@jupyter-widgets/base",
            "_view_module_version": "1.2.0",
            "_view_name": "LayoutView",
            "align_content": null,
            "align_items": null,
            "align_self": null,
            "border": null,
            "bottom": null,
            "display": null,
            "flex": null,
            "flex_flow": null,
            "grid_area": null,
            "grid_auto_columns": null,
            "grid_auto_flow": null,
            "grid_auto_rows": null,
            "grid_column": null,
            "grid_gap": null,
            "grid_row": null,
            "grid_template_areas": null,
            "grid_template_columns": null,
            "grid_template_rows": null,
            "height": null,
            "justify_content": null,
            "justify_items": null,
            "left": null,
            "margin": null,
            "max_height": null,
            "max_width": null,
            "min_height": null,
            "min_width": null,
            "object_fit": null,
            "object_position": null,
            "order": null,
            "overflow": null,
            "overflow_x": null,
            "overflow_y": null,
            "padding": null,
            "right": null,
            "top": null,
            "visibility": null,
            "width": null
          }
        },
        "2271144caaed41bc9ae57f04ed896203": {
          "model_module": "@jupyter-widgets/controls",
          "model_name": "ProgressStyleModel",
          "model_module_version": "1.5.0",
          "state": {
            "_model_module": "@jupyter-widgets/controls",
            "_model_module_version": "1.5.0",
            "_model_name": "ProgressStyleModel",
            "_view_count": null,
            "_view_module": "@jupyter-widgets/base",
            "_view_module_version": "1.2.0",
            "_view_name": "StyleView",
            "bar_color": null,
            "description_width": ""
          }
        },
        "41ff2c1b048345a3ab79d360707f56f2": {
          "model_module": "@jupyter-widgets/base",
          "model_name": "LayoutModel",
          "model_module_version": "1.2.0",
          "state": {
            "_model_module": "@jupyter-widgets/base",
            "_model_module_version": "1.2.0",
            "_model_name": "LayoutModel",
            "_view_count": null,
            "_view_module": "@jupyter-widgets/base",
            "_view_module_version": "1.2.0",
            "_view_name": "LayoutView",
            "align_content": null,
            "align_items": null,
            "align_self": null,
            "border": null,
            "bottom": null,
            "display": null,
            "flex": null,
            "flex_flow": null,
            "grid_area": null,
            "grid_auto_columns": null,
            "grid_auto_flow": null,
            "grid_auto_rows": null,
            "grid_column": null,
            "grid_gap": null,
            "grid_row": null,
            "grid_template_areas": null,
            "grid_template_columns": null,
            "grid_template_rows": null,
            "height": null,
            "justify_content": null,
            "justify_items": null,
            "left": null,
            "margin": null,
            "max_height": null,
            "max_width": null,
            "min_height": null,
            "min_width": null,
            "object_fit": null,
            "object_position": null,
            "order": null,
            "overflow": null,
            "overflow_x": null,
            "overflow_y": null,
            "padding": null,
            "right": null,
            "top": null,
            "visibility": null,
            "width": null
          }
        },
        "b8cdf5888db84d2cbd04784b7c63fa06": {
          "model_module": "@jupyter-widgets/controls",
          "model_name": "DescriptionStyleModel",
          "model_module_version": "1.5.0",
          "state": {
            "_model_module": "@jupyter-widgets/controls",
            "_model_module_version": "1.5.0",
            "_model_name": "DescriptionStyleModel",
            "_view_count": null,
            "_view_module": "@jupyter-widgets/base",
            "_view_module_version": "1.2.0",
            "_view_name": "StyleView",
            "description_width": ""
          }
        }
      }
    }
  },
  "cells": [
    {
      "cell_type": "markdown",
      "metadata": {
        "id": "view-in-github",
        "colab_type": "text"
      },
      "source": [
        "<a href=\"https://colab.research.google.com/github/MausamArora/LandMapRegularization/blob/main/Training_Land_Cover_Classification_using_CNNs.ipynb\" target=\"_parent\"><img src=\"https://colab.research.google.com/assets/colab-badge.svg\" alt=\"Open In Colab\"/></a>"
      ]
    },
    {
      "cell_type": "markdown",
      "metadata": {
        "id": "lTPTbzf0XIfL"
      },
      "source": [
        "# Land Use and Cover Classification using Convolutional Neural Networks (CNNs)\n",
        "\n",
        "## Introduction\n",
        "\n",
        "Land use describes the use of land surfaces by humans. Land cover describes physical features that occupy the surface of the Earth, such as water, forest, urban structures, vegetation, etc.\n",
        "\n",
        "We rely on accurate land use data for both scientific and administrative purposes. In particular, land cover and land use data are critical to achieve sustainable urban development. For example, land use information can be used to ensure that residential neighborhoods are positioned close to commercial centers and transportation services, and far from industrial areas. Land use data is also an important components of climatic and hydrologic modelling such as estimating the runoff of rainfall from varied surfaces into stream systems.\n",
        "\n",
        "While it is possible to acquire land use and land cover data through direct observation by visiting each site in person, this process can be costly and time consuming. A more efficient approach is to use satellite imagery and machine learning to automate the process.\n",
        "\n",
        "In this tutorial, we will develop and evaluate a deep learning machine learning (ML) model to automatically classify land cover types from satellite imagery. Specifically, we will achieve the following:   \n",
        "\n",
        "1. Download the EuroSAT dataset from the TensorFlow Datasets platform for training our model\n",
        "2. Clean and prepare the EuroSAT dataset to feed into a deep ML model\n",
        "3. Split the cleaned data into training and test sets\n",
        "4. Define and build a convolutional neutral network (a type of deep learning) using the Keras framework\n",
        "5. Fit the model to our training data\n",
        "6. Evaluate the accuracy of our model on the test set using visualisation techniques\n",
        "7. Use the model to make predictions on a new image"
      ]
    },
    {
      "cell_type": "markdown",
      "metadata": {
        "id": "uiIXs2FSkDon"
      },
      "source": [
        "## Dataset\n",
        "In this tutorial, we will be using the EuroSAT dataset to train and evaluate our deep neural network.\n",
        "\n",
        "The EuroSAT dataset is a novel dataset based on Sentinel-2 images containing 27,000 labeled images with 10 different land use and land cover classes. A unique characteristic of the EuroSAT dataset is that it is multi-spectral covering 13 spectral bands in the visible, near infrared and short wave infrared part of the spectrum.\n",
        "\n",
        "The dataset was constructed in the following two steps:\n",
        "1. Sentinel-2A satellite images were gathered from  European cities in over 34 countries;\n",
        "2. Based on the gathered satellite images, a dataset of 27,000 geo-referenced and labeled 64x64 pixels image patches was created.\n",
        "\n",
        "For more information, refer to the official paper: [EuroSAT : Land Use and Land Cover Classification with Sentinel-2](https://github.com/phelber/eurosat)\n"
      ]
    },
    {
      "cell_type": "markdown",
      "source": [
        "## TensorFlow and Keras\n",
        "\n",
        "This tutorial will be using TensorFlow and Keras to build a deep convolutional neural network to classify land cover and land use.\n",
        "\n",
        "TensorFlow is a Python-based, free, open source machine learning platform, developed primarily by Google. Much like NumPy, the primary purpose of TensorFlow is to enable engineers and researchers to manipulate mathematical expressions over numerical tensors.\n",
        "\n",
        "Keras is a deep learning API for Python, built on top of TensorFlow, that provides a convenient way to define and train any kind of deep learning model. Keras was initially developed for research, with the aim of enabling fast deep learning experimentation.\n",
        "\n",
        "Through TensorFlow, Keras can run on top of different types of hardware including GPU, TPU, or CPU and can be seamlessly scaled to thousands of machines."
      ],
      "metadata": {
        "id": "Re3aA9GfJ4xt"
      }
    },
    {
      "cell_type": "markdown",
      "source": [
        "Let's begin ..."
      ],
      "metadata": {
        "id": "MUEYSIHZK3Yg"
      }
    },
    {
      "cell_type": "markdown",
      "metadata": {
        "id": "d5JoOOffrmHE"
      },
      "source": [
        "### Mount Google Drive\n",
        "\n",
        "Mounting your Google Drive in the runtime's virtual machine allows you to write and to read files from your Google Drive through this notebook. Later in the tutorial, once we have trained our model, we will be saving the trained model to our Google Drive to be able to load at a later time without having to train the model all over again.\n",
        "\n",
        "To mount your Google Drive, run the following two lines:"
      ]
    },
    {
      "cell_type": "code",
      "metadata": {
        "colab": {
          "base_uri": "https://localhost:8080/"
        },
        "id": "TEWaynTcTglY",
        "outputId": "8049a2b8-c0ca-4cb9-838c-7399a33106d6"
      },
      "source": [
        "from google.colab import drive\n",
        "drive.mount('/content/drive')"
      ],
      "execution_count": 1,
      "outputs": [
        {
          "output_type": "stream",
          "name": "stdout",
          "text": [
            "Mounted at /content/drive\n"
          ]
        }
      ]
    },
    {
      "cell_type": "markdown",
      "source": [
        "Run the helper function notebook so we use the functions in this notebook"
      ],
      "metadata": {
        "id": "uY7roWE8PhXz"
      }
    },
    {
      "cell_type": "code",
      "source": [
        "%run /content/drive/MyDrive/Colab\\ Notebooks/Helper_Functions_Land_Cover_Classification.ipynb"
      ],
      "metadata": {
        "id": "1xbafObAPcgc"
      },
      "execution_count": 2,
      "outputs": []
    },
    {
      "cell_type": "markdown",
      "metadata": {
        "id": "z41kQqvJtRhn"
      },
      "source": [
        "### Import libraries"
      ]
    },
    {
      "cell_type": "code",
      "metadata": {
        "id": "eW0dJ_AvFW1x"
      },
      "source": [
        "import tensorflow as tf #import tensorflow library\n",
        "import tensorflow_datasets as tfds #import tensorflow datasets\n",
        "\n",
        "import matplotlib.pyplot as plt #import matplotlib for plotting\n",
        "import numpy as np # import numpy\n",
        "import random # import the random package for random number generation"
      ],
      "execution_count": 3,
      "outputs": []
    },
    {
      "cell_type": "markdown",
      "metadata": {
        "id": "YlMyX1yutg1P"
      },
      "source": [
        "### Download the EuroSAT dataset"
      ]
    },
    {
      "cell_type": "code",
      "metadata": {
        "id": "nY5obyIFFaJE",
        "colab": {
          "base_uri": "https://localhost:8080/",
          "height": 169,
          "referenced_widgets": [
            "9b921e051ef9404d9c7141d47196ab99",
            "301ef1a91e6543b7a8e359a2afabc906",
            "e4d55439fd134ceab5e97b754aad8a5c",
            "42a263ca81ec4945b8b5bbd49152d59d",
            "affde3cee4c5422bb92a33ca9d171cde",
            "3938817162444d4e9853cfdac80e9c2b",
            "d827e3498c82491ebb6edacd9d544bc1",
            "ea79736635a143f09d30caa8b223c084",
            "41388f69ae6346ac9ffe44790f17939f",
            "4b593c58aab949cea2a9bede98f055c3",
            "392f6c5978a8481daadad6229c79f9cd",
            "f5412b5608a146f6999efd61e9c0de2d",
            "b0a33d2b0e1c45b79a23f90ee523e1ff",
            "a9a6af745a64442f881e5aa3446e950a",
            "029b4c8a4c6c4a59a5dbf103d52463c5",
            "31c6d237bae94e0e895607123084d2b8",
            "138397489c4b4463a0d902f7a2b0e70d",
            "4d8bb64005b84d168d6fee55037a15d3",
            "f2b89bd809264f168eafd3d9eb71525d",
            "ae84a06590f743ffb312f8cc30ecfe8a",
            "d66c35c517f94315b5e7516a0d5d5656",
            "c0414c07ff594c16afc593c303923384",
            "f45d2f2010f1426b9d49a3e11505c818",
            "b51b9adff9794e61873a3fa2eb7c6cfa",
            "0acf49a12c4b4798bc76229490b25110",
            "8b000ecd896b4b278993e02971a8e181",
            "56b386b4da904b2284f2671f1a74e9b1",
            "095337b4c2e440aa8be993612697793f",
            "fadebf92189943b49f13b9f92f91938c",
            "27da1804e39c48ec80cc633e74c5f2d4",
            "1f34650f460745d9bc94d1babe20d715",
            "a4d77baee0244d378feda70cc4dee9ca",
            "3326dcbe32e94f8082e0bc6e3324952a",
            "4bf274b4dcee4b659ebe709e5bef36a7",
            "5a995f00999d4b078de3c693bacc6cac",
            "e039f2e15b9d4238989f74a4b5b81c48",
            "67778b037a7b44f8ab2d6b965576093c",
            "285456aecec545f0a0be9f7c851088fc",
            "fb880bd6087c4680bdd7f57f120478fd",
            "84b287f8566c41a4a2aa0f6268cef633",
            "5d110ab0f82347788943755db5d0c32f",
            "550453b605fe4abba0859d02fb800eaf",
            "8fd59b2201714d9181324ee26d175dbf",
            "10739da9e61145239e09ef99b215961f",
            "69adf17bc3fb4bdeb6f3b5985ad461a0",
            "afa1ba0541044f328bfb76e3733153c5",
            "f75dd2841ca347ec80c6b5af763825f1",
            "86952784b0d54c74816411a6d3fb067d",
            "8899e171de5e4466ad1e23c6b176dade",
            "c026f89449d24c22a6c024057e997985",
            "0cfe2d1ffc424bf58521ed6d006c999d",
            "213561385b0142c697cc3e92e2495b1e",
            "89ae347a828a41388d491468e7ed2206",
            "c6a573ac3b6c4f7f82ea044f266e7c38",
            "6817d69718cc4d8fa032caa1765def94",
            "62bc209ac8ea4e108d5e2cb426263cb5",
            "a6a3270b33254b608a51b3920bbf914b",
            "c0a655b3bfbc4a21bdd011deef4da994",
            "b1b353000b824ba1b9b43f2e485c68da",
            "180ffb1ff21a49cab6f7f7b25b2543b9",
            "c57508fc7f0e495198bf18ab5ec2bb52",
            "870be65a23b6422caeb6248341a3e5af",
            "cfac1ee0fb034240b763f7c033813ee9",
            "2271144caaed41bc9ae57f04ed896203",
            "41ff2c1b048345a3ab79d360707f56f2",
            "b8cdf5888db84d2cbd04784b7c63fa06"
          ]
        },
        "outputId": "5fdd2041-b8d2-4eec-c225-9cc8ebef574f"
      },
      "source": [
        "/content/drive/MyDrive/land_segmentation/my_image.png\n",
        "import tensorflow as tf\n",
        "import os\n",
        "\n",
        "# Replace with your image path\n",
        "image_path = '/content/drive/MyDrive/land_segmentation/my_image.png'\n",
        "\n",
        "def load_and_preprocess_image(image_path, img_size=(64, 64)):\n",
        "    image = tf.io.read_file(image_path)\n",
        "    image = tf.image.decode_png(image, channels=3)\n",
        "    image = tf.image.resize(image, img_size)\n",
        "    image = tf.cast(image, tf.float32) / 255.0\n",
        "    return image\n",
        "\n",
        "# Wrap the single image in a dataset (simulating the TFDS format)\n",
        "def create_single_image_dataset(image_path):\n",
        "    dataset = tf.data.Dataset.from_tensors(load_and_preprocess_image(image_path))\n",
        "    dataset = dataset.batch(1)  # optional, if you want batch dimension\n",
        "    return dataset\n",
        "\n",
        "ds = create_single_image_dataset(image_path)\n",
        "\n",
        "ds = tfds.load( #loads the named dataset into a `tf.data.Dataset`\n",
        "    'eurosat/all', # specifies the eurosat dataset with 13 Sentinel-2 channels to download. 'eurosat/rgb' is also available which only downloads the 3 rgb channels for each image.\n",
        "    split='train[:10%]', # download only 35% of the 27,000 available images due to memory constraints\n",
        "    shuffle_files = True,\n",
        "    as_supervised=True, # download in a 2-tuple structure (input, label)\n",
        ")"
      ],
      "execution_count": 4,
      "outputs": [
        {
          "output_type": "stream",
          "name": "stdout",
          "text": [
            "Downloading and preparing dataset 1.93 GiB (download: 1.93 GiB, generated: Unknown size, total: 1.93 GiB) to /root/tensorflow_datasets/eurosat/all/2.0.0...\n"
          ]
        },
        {
          "output_type": "display_data",
          "data": {
            "text/plain": [
              "Dl Completed...: 0 url [00:00, ? url/s]"
            ],
            "application/vnd.jupyter.widget-view+json": {
              "version_major": 2,
              "version_minor": 0,
              "model_id": "9b921e051ef9404d9c7141d47196ab99"
            }
          },
          "metadata": {}
        },
        {
          "output_type": "display_data",
          "data": {
            "text/plain": [
              "Dl Size...: 0 MiB [00:00, ? MiB/s]"
            ],
            "application/vnd.jupyter.widget-view+json": {
              "version_major": 2,
              "version_minor": 0,
              "model_id": "f5412b5608a146f6999efd61e9c0de2d"
            }
          },
          "metadata": {}
        },
        {
          "output_type": "display_data",
          "data": {
            "text/plain": [
              "Extraction completed...: 0 file [00:00, ? file/s]"
            ],
            "application/vnd.jupyter.widget-view+json": {
              "version_major": 2,
              "version_minor": 0,
              "model_id": "f45d2f2010f1426b9d49a3e11505c818"
            }
          },
          "metadata": {}
        },
        {
          "output_type": "display_data",
          "data": {
            "text/plain": [
              "Generating splits...:   0%|          | 0/1 [00:00<?, ? splits/s]"
            ],
            "application/vnd.jupyter.widget-view+json": {
              "version_major": 2,
              "version_minor": 0,
              "model_id": "4bf274b4dcee4b659ebe709e5bef36a7"
            }
          },
          "metadata": {}
        },
        {
          "output_type": "display_data",
          "data": {
            "text/plain": [
              "Generating train examples...:   0%|          | 0/27000 [00:00<?, ? examples/s]"
            ],
            "application/vnd.jupyter.widget-view+json": {
              "version_major": 2,
              "version_minor": 0,
              "model_id": "69adf17bc3fb4bdeb6f3b5985ad461a0"
            }
          },
          "metadata": {}
        },
        {
          "output_type": "display_data",
          "data": {
            "text/plain": [
              "Shuffling /root/tensorflow_datasets/eurosat/all/incomplete.04Q551_2.0.0/eurosat-train.tfrecord*...:   0%|     …"
            ],
            "application/vnd.jupyter.widget-view+json": {
              "version_major": 2,
              "version_minor": 0,
              "model_id": "62bc209ac8ea4e108d5e2cb426263cb5"
            }
          },
          "metadata": {}
        },
        {
          "output_type": "stream",
          "name": "stdout",
          "text": [
            "Dataset eurosat downloaded and prepared to /root/tensorflow_datasets/eurosat/all/2.0.0. Subsequent calls will reuse this data.\n"
          ]
        }
      ]
    },
    {
      "cell_type": "markdown",
      "metadata": {
        "id": "35imQTrpuqL8"
      },
      "source": [
        "### Load the `tf.data.Dataset` into a `numpy` tensors\n",
        "\n",
        "The `tfds.load()` function above downloads the images into a `tf.data.Dataset` object. Before we can use and manipulate it, we first have to convert the `tf.data.Dataset` object to Numpy tensors.\n",
        "\n",
        "Tensors are essentially containers for storing multidimensional data. Numpy arrays are also called Numpy tensors. In general, all current machine learning systems use tensors as their basic data structure. TensorFlow is named after tensors.\n",
        "\n"
      ]
    },
    {
      "cell_type": "code",
      "metadata": {
        "id": "YEw6OIB8o0oT"
      },
      "source": [
        "images = [] #defines a Python list to store the images\n",
        "labels = [] #defines a Python list to store the label of each image\n",
        "\n",
        "for image, label in tfds.as_numpy(ds): #for each (image, label) in the `tf.data.Dataset`\n",
        "    images.append(image) #add the image to the images list\n",
        "    labels.append(label) #add the label to the labels list\n",
        "\n",
        "\n",
        "images_arr = np.array(images) # convert the Python list to a numpy array\n",
        "labels_arr = np.array(labels) # ditto\n"
      ],
      "execution_count": 9,
      "outputs": []
    },
    {
      "cell_type": "markdown",
      "metadata": {
        "id": "xwZEsG6dvYl7"
      },
      "source": [
        "### Explore the data\n",
        "\n",
        "As you can see below, the images array contains `9450` images, and each image is `64x64` pixels containing 13 spectral bands.\n",
        "\n",
        "The labels array, on the other hand, contains `9450` labels but has only 1 column (the label classifying the class that an image belongs to)"
      ]
    },
    {
      "cell_type": "code",
      "metadata": {
        "id": "nxGuDcM_kkur",
        "colab": {
          "base_uri": "https://localhost:8080/"
        },
        "outputId": "974c9a41-dc19-496a-c32d-b048857764b7"
      },
      "source": [
        "print(images_arr.shape)\n",
        "print(labels_arr.shape)"
      ],
      "execution_count": 10,
      "outputs": [
        {
          "output_type": "stream",
          "name": "stdout",
          "text": [
            "(9450, 64, 64, 13)\n",
            "(9450,)\n"
          ]
        }
      ]
    },
    {
      "cell_type": "markdown",
      "metadata": {
        "id": "9xo3Cu74v41B"
      },
      "source": [
        "Let's plot a *single* pixel of the first image from the dataset. Y-axis is the reflectance of the each band, and X-axis is the band number."
      ]
    },
    {
      "cell_type": "code",
      "metadata": {
        "id": "b-DZr-TXKg6S",
        "colab": {
          "base_uri": "https://localhost:8080/",
          "height": 467
        },
        "outputId": "b6f0293c-19f6-47dd-e519-957660747bdf"
      },
      "source": [
        "plt.ylabel(\"Reflectance\") #add a y-axis label\n",
        "plt.xlabel('Band') # add an x-axis label\n",
        "plt.plot(images_arr[1,30,30, :],'-o') # plot the reflectance values of all bands of the pixel at location (30,30) from the first image."
      ],
      "execution_count": 11,
      "outputs": [
        {
          "output_type": "execute_result",
          "data": {
            "text/plain": [
              "[<matplotlib.lines.Line2D at 0x7e1b842aa510>]"
            ]
          },
          "metadata": {},
          "execution_count": 11
        },
        {
          "output_type": "display_data",
          "data": {
            "text/plain": [
              "<Figure size 640x480 with 1 Axes>"
            ],
            "image/png": "[encoded data removed]"
          },
          "metadata": {}
        }
      ]
    },
    {
      "cell_type": "markdown",
      "metadata": {
        "id": "rJn96f1HwyjZ"
      },
      "source": [
        "### Data preprocessing\n",
        "Deep learning models do not work well with raw data. Data preprocessing aims at making the raw data more amenable to neural networks. One common preprocessing step is called One-Hot Encoding.\n",
        "\n",
        "One-Hot Encoding is a widely used format for categorical data. In this case one-hot encoding of the labels consists of embedding each label as an all-zero vector with a 1 in the place of the label index. Conceretly, consider the following:\n",
        "\n",
        "Each image in our data belongs to one of 10 classes specifying the land cover type. For example, the label for image 123 is `7` (PermanentCrop). You can find the label for image 123 by running this code `labels_arr[123]`.\n",
        "\n",
        "After one-hot encoding, we get a vector with 10 columns filled with 0s except for a single 1 at index 6 (label 7):   \n",
        "`[0,0,0,0,0,0,1,0,0,0]`"
      ]
    },
    {
      "cell_type": "code",
      "metadata": {
        "id": "mf_BVpF1QX6r"
      },
      "source": [
        "from sklearn.preprocessing import OneHotEncoder #import OneHotEncoder from sklearn"
      ],
      "execution_count": 12,
      "outputs": []
    },
    {
      "cell_type": "code",
      "metadata": {
        "id": "UCvIicD4SRzM",
        "colab": {
          "base_uri": "https://localhost:8080/"
        },
        "outputId": "f35ef8ee-ec6a-4cbe-ccda-fb00a309f09d"
      },
      "source": [
        "enc = OneHotEncoder(sparse_output=False) #Define the OneHotEncoder\n",
        "\n",
        "labels_onehot_encoded = enc.fit_transform(labels_arr.reshape(-1, 1)) #Fit OneHotEncoder to labels_arr, then transform labels_arr.\n",
        "##the reshape(-1,1) simply reshapes our labels array to a single column (9450, 1) before feeding it to the fit_transform method\n",
        "\n",
        "print(labels_onehot_encoded.shape) #print shape of one-hot-encoded labels array\n",
        "print(images_arr.shape) #print shape of images_array"
      ],
      "execution_count": 13,
      "outputs": [
        {
          "output_type": "stream",
          "name": "stdout",
          "text": [
            "(9450, 10)\n",
            "(9450, 64, 64, 13)\n"
          ]
        }
      ]
    },
    {
      "cell_type": "markdown",
      "source": [
        "Another preprocessing step is normalising the image data which are currently encoded as integers. Normalisation is changing the values of a dataset to use a common scale, without distoring differences in the ranges of values or losing information.\n",
        "\n",
        "To normalise our images before we fed them into our network, we have to cast it to `float32` and divide by the maximum so we’d end up with floating-point values in the 0–1 range."
      ],
      "metadata": {
        "id": "gPV2sMKxDFhq"
      }
    },
    {
      "cell_type": "code",
      "metadata": {
        "id": "aXkKC88fUOQp"
      },
      "source": [
        "def normalise_images(images_array):\n",
        "  image = images_arr.astype('float32') #create a new `float32` Numpy array\n",
        "  for i in range(0, len(images_arr)):  # go through every image in the array\n",
        "      amax_tmp=np.amax(images_arr[i,:,:,:]) # find the max value in each image\n",
        "      image[i,:,:,:] = images_arr[i,:,:,:] / amax_tmp #divide every image value by the maximum and store in new Numpy Array\n",
        "\n",
        "  return image\n",
        "\n",
        "image = normalise_images(images_arr) #call the normalise_images function and pass the images we read from TensorFlow Datasets"
      ],
      "execution_count": 14,
      "outputs": []
    },
    {
      "cell_type": "markdown",
      "source": [
        "Let’s display a few images we downloaded from TensorFlow Datasets, using the Matplotlib library (a well-known Python data visualization library, which comes preinstalled in Colab)."
      ],
      "metadata": {
        "id": "1LvrKxE9GHNE"
      }
    },
    {
      "cell_type": "code",
      "metadata": {
        "id": "x4u2o5zVmn9n"
      },
      "source": [
        "def get_classlabel(class_code): #function to map integer values to human-readable labels\n",
        "    labels = {0:'AnnualCrop', 1:'Forest', 2:'HerbaceousVegetation', 3:'Highway', 4:'Industrial', 5:'Pasture', 6:'PermanentCrop', 7:'Residential', 8:'River', 9:'SeaLake'}\n",
        "\n",
        "    return labels[class_code]"
      ],
      "execution_count": 15,
      "outputs": []
    },
    {
      "cell_type": "code",
      "metadata": {
        "id": "JO3ygSarmhFs",
        "colab": {
          "base_uri": "https://localhost:8080/",
          "height": 547
        },
        "outputId": "8f9fb03f-1269-4c52-99c3-f3b13fcf0e38"
      },
      "source": [
        "\"\"\"\n",
        "Function to plot images and labels\n",
        "Input: images array, labels array\n",
        "Output: None\n",
        "\n",
        "\"\"\"\n",
        "def plot_images(images_array, labels_array):\n",
        "  fig,ax = plt.subplots(5,5) #instantite a figure with 5x5 subplots\n",
        "  fig.subplots_adjust(0,0,3,3) # add some padding\n",
        "  for i in range(0,5,1): # randomly select 5 images\n",
        "      for j in range(0,5,1):\n",
        "          rnd_number = random.randint(0,len(images_array))\n",
        "          ax[i,j].imshow(images_array[rnd_number, :, :, 1:4])\n",
        "          ax[i,j].set_title(get_classlabel(labels_array[rnd_number]))\n",
        "          ax[i,j].axis('off')\n",
        "\n",
        "plot_images(image, labels_arr)"
      ],
      "execution_count": 16,
      "outputs": [
        {
          "output_type": "display_data",
          "data": {
            "text/plain": [
              "<Figure size 640x480 with 25 Axes>"
            ],
            "image/png": "[encoded data removed]"
          },
          "metadata": {}
        }
      ]
    },
    {
      "cell_type": "markdown",
      "source": [
        "### Training and Test Sets\n",
        "Evaluating a model always boils down to splitting the available data into three sets: training, validation, and test. You train on the training data and evaluate your model on the validation data. Once you have optimised your model, you test it one final time on the test data. The test set should be as similar as possible to production data.\n",
        "\n",
        "For brevity, in this tutorial, we are just going to split our data into two sets: training set and test set."
      ],
      "metadata": {
        "id": "-5SI6rASHCq7"
      }
    },
    {
      "cell_type": "code",
      "metadata": {
        "id": "UnfSZAcsgbv4"
      },
      "source": [
        "\"\"\"\n",
        "The Scikit-learn Python package comes with a handy function that splits arrays or matrices into random train and test subsets\n",
        "\"\"\"\n",
        "#import train_test_split\n",
        "from sklearn.model_selection import train_test_split"
      ],
      "execution_count": 17,
      "outputs": []
    },
    {
      "cell_type": "code",
      "metadata": {
        "id": "XIx3MenpgCdU"
      },
      "source": [
        "\"\"\"\n",
        "We are setting aside 20% of our data for the test set and using 80% for training the model.\n",
        "Below, we call the train_test_split function on our normalised images array and our one-hot-encoded labels array, setting shuffle to True to shuffle the data before splitting,\n",
        "and setting the random_state to 42 (can be any number) for reproducible output across multiple function calls\n",
        "\"\"\"\n",
        "test_size = 0.20\n",
        "X_train, X_test, y_train, y_test = train_test_split(image, labels_onehot_encoded, test_size = test_size, shuffle=True, random_state=42)"
      ],
      "execution_count": 18,
      "outputs": []
    },
    {
      "cell_type": "markdown",
      "source": [
        "## Select and Train a Model"
      ],
      "metadata": {
        "id": "RbyZLEqJI-k1"
      }
    },
    {
      "cell_type": "markdown",
      "source": [
        "### Import Keras Libraries"
      ],
      "metadata": {
        "id": "f96GA-GSJQup"
      }
    },
    {
      "cell_type": "code",
      "metadata": {
        "id": "TrmP7sWygL2T"
      },
      "source": [
        "from tensorflow import keras\n",
        "from tensorflow.keras.preprocessing.image import ImageDataGenerator\n",
        "from tensorflow.keras.models import Sequential\n",
        "from tensorflow.keras.layers import Dense, Dropout, Activation, Flatten\n",
        "from tensorflow.keras.layers import Conv2D, MaxPooling2D\n",
        "from tensorflow.keras.callbacks import ModelCheckpoint, EarlyStopping\n"
      ],
      "execution_count": 19,
      "outputs": []
    },
    {
      "cell_type": "markdown",
      "source": [
        "#### Define a Keras Sequential Model\n",
        "\n",
        "The simplest way to build a Keras model is to use the Sequential model. Keras Sequential Model is simply a stack of layers that map a single input to a single output.\n"
      ],
      "metadata": {
        "id": "rf1ezOiMJT3R"
      }
    },
    {
      "cell_type": "code",
      "metadata": {
        "id": "DNlkHpjeggHd"
      },
      "source": [
        "#Initialise a Sequential Model\n",
        "model = keras.Sequential()"
      ],
      "execution_count": 20,
      "outputs": []
    },
    {
      "cell_type": "markdown",
      "source": [
        "Below we define our model's architecture. As discussed, a Sequential model is simply a stack of layers. This particular model is made up of four types of layers stacked on top of each other. Let's briefly go through each type of layer.\n",
        "\n",
        "`Conv2D` – Image data, stored in rank-4 tensors, is usually processed by 2D convolution layers (Conv2D). This layer creates a convolution kernel that is convolved with the layer input to produce a tensor of outputs. A convolution is the simple application of a filter to an input that results in an activation.\n",
        "\n",
        "The `Conv2D` layer below takes five parameters:\n",
        "- `filters` – integer, specifying the dimensionality of the output space. Filters detect spatial patterns such as edges in an image by detecting the changes in intensity values of the image\n",
        "- `kernel_size` – an integer or a list of 2 integers, specifying the height and width of the 2D convolution window\n",
        "- `activation` – activation function to use\n",
        "- `padding` – either \"valid\" or \"same\". \"valid\" means no padding. \"same\" results in padding with zeros evenly to the left/right or up/down of the input such that output has the same height/width dimension as the input.\n",
        "- `input_shape` – the dimenstions of the input image.   \n",
        "\n",
        "    \n",
        "The `MaxPooling2D` layer is used to reduce the dimension of the image by taking the maximum value over an input window (of size defined by `pool_size`) for each channel of the input.   \n",
        "\n",
        "The `MaxPooling2D` layer below takes one parameter, `pool_size` that defines the size of the input window.\n",
        "\n",
        "\n",
        "The `Dense` layer is densely connected (also called fully connected) neural layers. This means these layers are connected to every unit in the previous layer. In the example below, the Dense layer takes two parameters:\n",
        "- `units` – positive integer, dimensionality of the output space\n",
        "- `activation` – activation function to use\n",
        "\n",
        "Finally, the `Dropout` layer is a weight regularisation technique that is common to mitigate overfitting. This layer randomly ignores certain units during training. The percentage of units to ignore is specified by the `rate` parameter.\n"
      ],
      "metadata": {
        "id": "nlsGGwFhLDLp"
      }
    },
    {
      "cell_type": "code",
      "metadata": {
        "id": "Y9bGHOBBgObc",
        "colab": {
          "base_uri": "https://localhost:8080/"
        },
        "outputId": "b2c14727-2a54-4bab-e505-9a9f616da1da"
      },
      "source": [
        "\"\"\"\n",
        "Here we define the architecture of our model.\n",
        "\n",
        "In this specific example, we use four Conv2D layers, three MaxPooling2D layers, two dense layers and one Dropout layer for weight regularisation.\n",
        "\"\"\"\n",
        "_, num_classes = y_train.shape # get the dimensions (number samples and num classes) of the training labels\n",
        "\n",
        "model.add(Conv2D(32, (3, 3), activation='relu', padding='same', input_shape=X_train.shape[1:]))\n",
        "model.add(MaxPooling2D(pool_size=(2, 2)))\n",
        "model.add(Conv2D(64, (3, 3), activation='relu'))\n",
        "model.add(MaxPooling2D(pool_size=(2, 2)))\n",
        "model.add(Conv2D(128, (3, 3), activation='relu'))\n",
        "model.add(Conv2D(128, (3, 3), activation='relu'))\n",
        "model.add(MaxPooling2D(pool_size=(2, 2)))\n",
        "model.add(Flatten())\n",
        "model.add(Dense(512, activation='relu'))\n",
        "model.add(Dropout(0.5))\n",
        "model.add(Dense(num_classes, activation='softmax'))"
      ],
      "execution_count": 21,
      "outputs": [
        {
          "output_type": "stream",
          "name": "stderr",
          "text": [
            "/usr/local/lib/python3.11/dist-packages/keras/src/layers/convolutional/base_conv.py:107: UserWarning: Do not pass an `input_shape`/`input_dim` argument to a layer. When using Sequential models, prefer using an `Input(shape)` object as the first layer in the model instead.\n",
            "  super().__init__(activity_regularizer=activity_regularizer, **kwargs)\n"
          ]
        }
      ]
    },
    {
      "cell_type": "markdown",
      "source": [
        "Here we specify the configurations of our model. In particular, we choose the `optimizer`, the `loss` function, and the `metric` we will use to evaluate our model."
      ],
      "metadata": {
        "id": "CumS_RgCRLg3"
      }
    },
    {
      "cell_type": "code",
      "metadata": {
        "id": "HoHsdSlfgXQC",
        "colab": {
          "base_uri": "https://localhost:8080/",
          "height": 537
        },
        "outputId": "8caaab52-3bdd-4b2d-9609-833955a7fb8c"
      },
      "source": [
        "opt = keras.optimizers.RMSprop(learning_rate=0.0001, decay=1e-6) #define an RMSprop optimiser with the specified learning rate and decay (decay of the learning rate over time)\n",
        "\n",
        "model.compile(loss='categorical_crossentropy', # use categorical_crossentropy loss function, commoly used for multiclass, singlelabel classification\n",
        "              optimizer=opt, # specify our optimiser we define above\n",
        "              metrics=['accuracy']) # we will be using accuracy as our evaluation metric\n",
        "\n",
        "model.summary() #print the content of our model"
      ],
      "execution_count": 22,
      "outputs": [
        {
          "output_type": "stream",
          "name": "stderr",
          "text": [
            "/usr/local/lib/python3.11/dist-packages/keras/src/optimizers/base_optimizer.py:86: UserWarning: Argument `decay` is no longer supported and will be ignored.\n",
            "  warnings.warn(\n"
          ]
        },
        {
          "output_type": "display_data",
          "data": {
            "text/plain": [
              "\u001b[1mModel: \"sequential\"\u001b[0m\n"
            ],
            "text/html": [
              "<pre style=\"white-space:pre;overflow-x:auto;line-height:normal;font-family:Menlo,'DejaVu Sans Mono',consolas,'Courier New',monospace\"><span style=\"font-weight: bold\">Model: \"sequential\"</span>\n",
              "</pre>\n"
            ]
          },
          "metadata": {}
        },
        {
          "output_type": "display_data",
          "data": {
            "text/plain": [
              "┏━━━━━━━━━━━━━━━━━━━━━━━━━━━━━━━━━┳━━━━━━━━━━━━━━━━━━━━━━━━┳━━━━━━━━━━━━━━━┓\n",
              "┃\u001b[1m \u001b[0m\u001b[1mLayer (type)                   \u001b[0m\u001b[1m \u001b[0m┃\u001b[1m \u001b[0m\u001b[1mOutput Shape          \u001b[0m\u001b[1m \u001b[0m┃\u001b[1m \u001b[0m\u001b[1m      Param #\u001b[0m\u001b[1m \u001b[0m┃\n",
              "┡━━━━━━━━━━━━━━━━━━━━━━━━━━━━━━━━━╇━━━━━━━━━━━━━━━━━━━━━━━━╇━━━━━━━━━━━━━━━┩\n",
              "│ conv2d (\u001b[38;5;33mConv2D\u001b[0m)                 │ (\u001b[38;5;45mNone\u001b[0m, \u001b[38;5;34m64\u001b[0m, \u001b[38;5;34m64\u001b[0m, \u001b[38;5;34m32\u001b[0m)     │         \u001b[38;5;34m3,776\u001b[0m │\n",
              "├─────────────────────────────────┼────────────────────────┼───────────────┤\n",
              "│ max_pooling2d (\u001b[38;5;33mMaxPooling2D\u001b[0m)    │ (\u001b[38;5;45mNone\u001b[0m, \u001b[38;5;34m32\u001b[0m, \u001b[38;5;34m32\u001b[0m, \u001b[38;5;34m32\u001b[0m)     │             \u001b[38;5;34m0\u001b[0m │\n",
              "├─────────────────────────────────┼────────────────────────┼───────────────┤\n",
              "│ conv2d_1 (\u001b[38;5;33mConv2D\u001b[0m)               │ (\u001b[38;5;45mNone\u001b[0m, \u001b[38;5;34m30\u001b[0m, \u001b[38;5;34m30\u001b[0m, \u001b[38;5;34m64\u001b[0m)     │        \u001b[38;5;34m18,496\u001b[0m │\n",
              "├─────────────────────────────────┼────────────────────────┼───────────────┤\n",
              "│ max_pooling2d_1 (\u001b[38;5;33mMaxPooling2D\u001b[0m)  │ (\u001b[38;5;45mNone\u001b[0m, \u001b[38;5;34m15\u001b[0m, \u001b[38;5;34m15\u001b[0m, \u001b[38;5;34m64\u001b[0m)     │             \u001b[38;5;34m0\u001b[0m │\n",
              "├─────────────────────────────────┼────────────────────────┼───────────────┤\n",
              "│ conv2d_2 (\u001b[38;5;33mConv2D\u001b[0m)               │ (\u001b[38;5;45mNone\u001b[0m, \u001b[38;5;34m13\u001b[0m, \u001b[38;5;34m13\u001b[0m, \u001b[38;5;34m128\u001b[0m)    │        \u001b[38;5;34m73,856\u001b[0m │\n",
              "├─────────────────────────────────┼────────────────────────┼───────────────┤\n",
              "│ conv2d_3 (\u001b[38;5;33mConv2D\u001b[0m)               │ (\u001b[38;5;45mNone\u001b[0m, \u001b[38;5;34m11\u001b[0m, \u001b[38;5;34m11\u001b[0m, \u001b[38;5;34m128\u001b[0m)    │       \u001b[38;5;34m147,584\u001b[0m │\n",
              "├─────────────────────────────────┼────────────────────────┼───────────────┤\n",
              "│ max_pooling2d_2 (\u001b[38;5;33mMaxPooling2D\u001b[0m)  │ (\u001b[38;5;45mNone\u001b[0m, \u001b[38;5;34m5\u001b[0m, \u001b[38;5;34m5\u001b[0m, \u001b[38;5;34m128\u001b[0m)      │             \u001b[38;5;34m0\u001b[0m │\n",
              "├─────────────────────────────────┼────────────────────────┼───────────────┤\n",
              "│ flatten (\u001b[38;5;33mFlatten\u001b[0m)               │ (\u001b[38;5;45mNone\u001b[0m, \u001b[38;5;34m3200\u001b[0m)           │             \u001b[38;5;34m0\u001b[0m │\n",
              "├─────────────────────────────────┼────────────────────────┼───────────────┤\n",
              "│ dense (\u001b[38;5;33mDense\u001b[0m)                   │ (\u001b[38;5;45mNone\u001b[0m, \u001b[38;5;34m512\u001b[0m)            │     \u001b[38;5;34m1,638,912\u001b[0m │\n",
              "├─────────────────────────────────┼────────────────────────┼───────────────┤\n",
              "│ dropout (\u001b[38;5;33mDropout\u001b[0m)               │ (\u001b[38;5;45mNone\u001b[0m, \u001b[38;5;34m512\u001b[0m)            │             \u001b[38;5;34m0\u001b[0m │\n",
              "├─────────────────────────────────┼────────────────────────┼───────────────┤\n",
              "│ dense_1 (\u001b[38;5;33mDense\u001b[0m)                 │ (\u001b[38;5;45mNone\u001b[0m, \u001b[38;5;34m10\u001b[0m)             │         \u001b[38;5;34m5,130\u001b[0m │\n",
              "└─────────────────────────────────┴────────────────────────┴───────────────┘\n"
            ],
            "text/html": [
              "<pre style=\"white-space:pre;overflow-x:auto;line-height:normal;font-family:Menlo,'DejaVu Sans Mono',consolas,'Courier New',monospace\">┏━━━━━━━━━━━━━━━━━━━━━━━━━━━━━━━━━┳━━━━━━━━━━━━━━━━━━━━━━━━┳━━━━━━━━━━━━━━━┓\n",
              "┃<span style=\"font-weight: bold\"> Layer (type)                    </span>┃<span style=\"font-weight: bold\"> Output Shape           </span>┃<span style=\"font-weight: bold\">       Param # </span>┃\n",
              "┡━━━━━━━━━━━━━━━━━━━━━━━━━━━━━━━━━╇━━━━━━━━━━━━━━━━━━━━━━━━╇━━━━━━━━━━━━━━━┩\n",
              "│ conv2d (<span style=\"color: #0087ff; text-decoration-color: #0087ff\">Conv2D</span>)                 │ (<span style=\"color: #00d7ff; text-decoration-color: #00d7ff\">None</span>, <span style=\"color: #00af00; text-decoration-color: #00af00\">64</span>, <span style=\"color: #00af00; text-decoration-color: #00af00\">64</span>, <span style=\"color: #00af00; text-decoration-color: #00af00\">32</span>)     │         <span style=\"color: #00af00; text-decoration-color: #00af00\">3,776</span> │\n",
              "├─────────────────────────────────┼────────────────────────┼───────────────┤\n",
              "│ max_pooling2d (<span style=\"color: #0087ff; text-decoration-color: #0087ff\">MaxPooling2D</span>)    │ (<span style=\"color: #00d7ff; text-decoration-color: #00d7ff\">None</span>, <span style=\"color: #00af00; text-decoration-color: #00af00\">32</span>, <span style=\"color: #00af00; text-decoration-color: #00af00\">32</span>, <span style=\"color: #00af00; text-decoration-color: #00af00\">32</span>)     │             <span style=\"color: #00af00; text-decoration-color: #00af00\">0</span> │\n",
              "├─────────────────────────────────┼────────────────────────┼───────────────┤\n",
              "│ conv2d_1 (<span style=\"color: #0087ff; text-decoration-color: #0087ff\">Conv2D</span>)               │ (<span style=\"color: #00d7ff; text-decoration-color: #00d7ff\">None</span>, <span style=\"color: #00af00; text-decoration-color: #00af00\">30</span>, <span style=\"color: #00af00; text-decoration-color: #00af00\">30</span>, <span style=\"color: #00af00; text-decoration-color: #00af00\">64</span>)     │        <span style=\"color: #00af00; text-decoration-color: #00af00\">18,496</span> │\n",
              "├─────────────────────────────────┼────────────────────────┼───────────────┤\n",
              "│ max_pooling2d_1 (<span style=\"color: #0087ff; text-decoration-color: #0087ff\">MaxPooling2D</span>)  │ (<span style=\"color: #00d7ff; text-decoration-color: #00d7ff\">None</span>, <span style=\"color: #00af00; text-decoration-color: #00af00\">15</span>, <span style=\"color: #00af00; text-decoration-color: #00af00\">15</span>, <span style=\"color: #00af00; text-decoration-color: #00af00\">64</span>)     │             <span style=\"color: #00af00; text-decoration-color: #00af00\">0</span> │\n",
              "├─────────────────────────────────┼────────────────────────┼───────────────┤\n",
              "│ conv2d_2 (<span style=\"color: #0087ff; text-decoration-color: #0087ff\">Conv2D</span>)               │ (<span style=\"color: #00d7ff; text-decoration-color: #00d7ff\">None</span>, <span style=\"color: #00af00; text-decoration-color: #00af00\">13</span>, <span style=\"color: #00af00; text-decoration-color: #00af00\">13</span>, <span style=\"color: #00af00; text-decoration-color: #00af00\">128</span>)    │        <span style=\"color: #00af00; text-decoration-color: #00af00\">73,856</span> │\n",
              "├─────────────────────────────────┼────────────────────────┼───────────────┤\n",
              "│ conv2d_3 (<span style=\"color: #0087ff; text-decoration-color: #0087ff\">Conv2D</span>)               │ (<span style=\"color: #00d7ff; text-decoration-color: #00d7ff\">None</span>, <span style=\"color: #00af00; text-decoration-color: #00af00\">11</span>, <span style=\"color: #00af00; text-decoration-color: #00af00\">11</span>, <span style=\"color: #00af00; text-decoration-color: #00af00\">128</span>)    │       <span style=\"color: #00af00; text-decoration-color: #00af00\">147,584</span> │\n",
              "├─────────────────────────────────┼────────────────────────┼───────────────┤\n",
              "│ max_pooling2d_2 (<span style=\"color: #0087ff; text-decoration-color: #0087ff\">MaxPooling2D</span>)  │ (<span style=\"color: #00d7ff; text-decoration-color: #00d7ff\">None</span>, <span style=\"color: #00af00; text-decoration-color: #00af00\">5</span>, <span style=\"color: #00af00; text-decoration-color: #00af00\">5</span>, <span style=\"color: #00af00; text-decoration-color: #00af00\">128</span>)      │             <span style=\"color: #00af00; text-decoration-color: #00af00\">0</span> │\n",
              "├─────────────────────────────────┼────────────────────────┼───────────────┤\n",
              "│ flatten (<span style=\"color: #0087ff; text-decoration-color: #0087ff\">Flatten</span>)               │ (<span style=\"color: #00d7ff; text-decoration-color: #00d7ff\">None</span>, <span style=\"color: #00af00; text-decoration-color: #00af00\">3200</span>)           │             <span style=\"color: #00af00; text-decoration-color: #00af00\">0</span> │\n",
              "├─────────────────────────────────┼────────────────────────┼───────────────┤\n",
              "│ dense (<span style=\"color: #0087ff; text-decoration-color: #0087ff\">Dense</span>)                   │ (<span style=\"color: #00d7ff; text-decoration-color: #00d7ff\">None</span>, <span style=\"color: #00af00; text-decoration-color: #00af00\">512</span>)            │     <span style=\"color: #00af00; text-decoration-color: #00af00\">1,638,912</span> │\n",
              "├─────────────────────────────────┼────────────────────────┼───────────────┤\n",
              "│ dropout (<span style=\"color: #0087ff; text-decoration-color: #0087ff\">Dropout</span>)               │ (<span style=\"color: #00d7ff; text-decoration-color: #00d7ff\">None</span>, <span style=\"color: #00af00; text-decoration-color: #00af00\">512</span>)            │             <span style=\"color: #00af00; text-decoration-color: #00af00\">0</span> │\n",
              "├─────────────────────────────────┼────────────────────────┼───────────────┤\n",
              "│ dense_1 (<span style=\"color: #0087ff; text-decoration-color: #0087ff\">Dense</span>)                 │ (<span style=\"color: #00d7ff; text-decoration-color: #00d7ff\">None</span>, <span style=\"color: #00af00; text-decoration-color: #00af00\">10</span>)             │         <span style=\"color: #00af00; text-decoration-color: #00af00\">5,130</span> │\n",
              "└─────────────────────────────────┴────────────────────────┴───────────────┘\n",
              "</pre>\n"
            ]
          },
          "metadata": {}
        },
        {
          "output_type": "display_data",
          "data": {
            "text/plain": [
              "\u001b[1m Total params: \u001b[0m\u001b[38;5;34m1,887,754\u001b[0m (7.20 MB)\n"
            ],
            "text/html": [
              "<pre style=\"white-space:pre;overflow-x:auto;line-height:normal;font-family:Menlo,'DejaVu Sans Mono',consolas,'Courier New',monospace\"><span style=\"font-weight: bold\"> Total params: </span><span style=\"color: #00af00; text-decoration-color: #00af00\">1,887,754</span> (7.20 MB)\n",
              "</pre>\n"
            ]
          },
          "metadata": {}
        },
        {
          "output_type": "display_data",
          "data": {
            "text/plain": [
              "\u001b[1m Trainable params: \u001b[0m\u001b[38;5;34m1,887,754\u001b[0m (7.20 MB)\n"
            ],
            "text/html": [
              "<pre style=\"white-space:pre;overflow-x:auto;line-height:normal;font-family:Menlo,'DejaVu Sans Mono',consolas,'Courier New',monospace\"><span style=\"font-weight: bold\"> Trainable params: </span><span style=\"color: #00af00; text-decoration-color: #00af00\">1,887,754</span> (7.20 MB)\n",
              "</pre>\n"
            ]
          },
          "metadata": {}
        },
        {
          "output_type": "display_data",
          "data": {
            "text/plain": [
              "\u001b[1m Non-trainable params: \u001b[0m\u001b[38;5;34m0\u001b[0m (0.00 B)\n"
            ],
            "text/html": [
              "<pre style=\"white-space:pre;overflow-x:auto;line-height:normal;font-family:Menlo,'DejaVu Sans Mono',consolas,'Courier New',monospace\"><span style=\"font-weight: bold\"> Non-trainable params: </span><span style=\"color: #00af00; text-decoration-color: #00af00\">0</span> (0.00 B)\n",
              "</pre>\n"
            ]
          },
          "metadata": {}
        }
      ]
    },
    {
      "cell_type": "code",
      "metadata": {
        "id": "cY0hNh0YWdxL"
      },
      "source": [
        "\"\"\"\n",
        "Here we define a callback list. A callback is an object (a class instance implementing specific methods)\n",
        "that is passed to the model in the call to fit() and that is called by the model at various points during training.\n",
        "It has access to all the available data about the state of the model and its performance,\n",
        "and it can take action: interrupt training, save a model, load a different weight set, or otherwise alter the state of the model.\n",
        "\n",
        "Below we define two callbacks:\n",
        "1. EarlyStopping to interuppt training when the validation accuracy does not improve after four epochs (patience)\n",
        "2. ModelCheckpoint to save the model at model that has the best validation loss (low validation loss)\n",
        "\"\"\"\n",
        "callbacks_list = [\n",
        "  EarlyStopping(\n",
        "      monitor='val_accuracy',\n",
        "      patience=4,\n",
        "  ),\n",
        "  ModelCheckpoint(\n",
        "      filepath='/content/drive/MyDrive/Colab Notebooks/LandCoverClassification/TrainedModel/land_cover_classification_pretrained.h5', #path in our GDrive to save model\n",
        "      monitor='val_loss',\n",
        "      save_best_only=True,\n",
        "  )\n",
        "]"
      ],
      "execution_count": 23,
      "outputs": []
    },
    {
      "cell_type": "markdown",
      "source": [
        "We have done all the ground work to prepare our model for training. Now is the time to actually train our model on our training data. Training in Keras is done through the `.fit()` function. This function takes the following paramters:\n",
        "\n",
        "- `X` – input data\n",
        "- `y` – labels for the inpute data\n",
        "- `epochs` – everytime the model sees the data, it learns something new and `epochs` define how many iterations to cycle through the training data.\n",
        "- `batch_size` – the number of training samples to use for each gradient update. The higher the batch_size the more memory your require.\n",
        "- `validation_data` – validation data to evaluate your model after each epoch\n",
        "- `callbacks` – a list of callback functions\n",
        "- `verbose` – 0 or 1. Verbosity mode. 0 = silent, 1 = progress bar.\n",
        ""
      ],
      "metadata": {
        "id": "OKMr5WaNSvpA"
      }
    },
    {
      "cell_type": "code",
      "metadata": {
        "id": "bEfxPg5Rgqaq",
        "colab": {
          "base_uri": "https://localhost:8080/",
          "height": 219
        },
        "outputId": "5d164c01-6096-4c94-f5c9-16498fc37959"
      },
      "source": [
        "batch_size = 32\n",
        "epochs = 50\n",
        "\n",
        "history = model.fit(X_train, y_train, #train the model\n",
        "                    epochs=epochs,\n",
        "                    batch_size=batch_size,\n",
        "                    validation_data=(X_test, y_test),\n",
        "                    callbacks=callbacks_list,\n",
        "                    verbose = 1)\n",
        "\n",
        "y_pred = model.predict(X_test) # make predictions on the test_set"
      ],
      "execution_count": 1,
      "outputs": [
        {
          "output_type": "error",
          "ename": "NameError",
          "evalue": "name 'model' is not defined",
          "traceback": [
            "\u001b[0;31m---------------------------------------------------------------------------\u001b[0m",
            "\u001b[0;31mNameError\u001b[0m                                 Traceback (most recent call last)",
            "\u001b[0;32m<ipython-input-1-2185add98ef9>\u001b[0m in \u001b[0;36m<cell line: 0>\u001b[0;34m()\u001b[0m\n\u001b[1;32m      2\u001b[0m \u001b[0mepochs\u001b[0m \u001b[0;34m=\u001b[0m \u001b[0;36m10\u001b[0m\u001b[0;34m\u001b[0m\u001b[0;34m\u001b[0m\u001b[0m\n\u001b[1;32m      3\u001b[0m \u001b[0;34m\u001b[0m\u001b[0m\n\u001b[0;32m----> 4\u001b[0;31m history = model.fit(X_train, y_train, #train the model\n\u001b[0m\u001b[1;32m      5\u001b[0m                     \u001b[0mepochs\u001b[0m\u001b[0;34m=\u001b[0m\u001b[0mepochs\u001b[0m\u001b[0;34m,\u001b[0m\u001b[0;34m\u001b[0m\u001b[0;34m\u001b[0m\u001b[0m\n\u001b[1;32m      6\u001b[0m                     \u001b[0mbatch_size\u001b[0m\u001b[0;34m=\u001b[0m\u001b[0mbatch_size\u001b[0m\u001b[0;34m,\u001b[0m\u001b[0;34m\u001b[0m\u001b[0;34m\u001b[0m\u001b[0m\n",
            "\u001b[0;31mNameError\u001b[0m: name 'model' is not defined"
          ]
        }
      ]
    },
    {
      "cell_type": "markdown",
      "source": [
        "### Validating your model\n",
        "Note above that the call to `model.fit()` returns a `History` object. This object has a member called `history`, which is a dictionary containing data about everything that happened during training. Below we retrieve the `loss` and `val_loss` the occured at each epoch and plot it using the `matplotlib` library."
      ],
      "metadata": {
        "id": "PO4hTaWXVBpI"
      }
    },
    {
      "cell_type": "code",
      "metadata": {
        "id": "YezwiVbh6aPD",
        "colab": {
          "base_uri": "https://localhost:8080/",
          "height": 295
        },
        "outputId": "b7e1e2ac-7ec3-41e0-c193-89f6a2ee4c05"
      },
      "source": [
        "history_dict = history.history #access the history attribute of the History object\n",
        "loss_values = history_dict[\"loss\"] #get the training loss values\n",
        "val_loss_values = history_dict[\"val_loss\"] # get the validation loss values\n",
        "epochs = range(1, len(loss_values) +1) # specify number of epochs we want to visualise. In this example, all training epochs.\n",
        "plt.plot(epochs, loss_values, \"bo\", label=\"Training Loss\") #plot the training loss\n",
        "plt.plot(epochs, val_loss_values, \"b\", label=\"Validation Loss\") # plot the validation loss\n",
        "plt.title(\"Training and validation loss\") #title\n",
        "plt.xlabel(\"Epochs\") #x label\n",
        "plt.ylabel(\"Loss\") # y label\n",
        "plt.legend() # show legend\n",
        "plt.show() # show plot"
      ],
      "execution_count": null,
      "outputs": [
        {
          "output_type": "display_data",
          "data": {
            "image/png": "[encoded data removed]",
            "text/plain": [
              "<Figure size 432x288 with 1 Axes>"
            ]
          },
          "metadata": {
            "needs_background": "light"
          }
        }
      ]
    },
    {
      "cell_type": "markdown",
      "source": [
        "The plot above provides valuable insights. As can be seen, both the validation loss and the training loss kept on reducing until epoch 10. At epoch 10, our validation loss was 0.4092.  This is good and what we would like to see. However, after epoch 10, the validation loss started to increase but the our training loss continued to decrease. This is a typical sign of overfitting – the model is memorising the patterns in the training set but cannot generalise well to the test set. Remember, the ultimate goal of machine learning to be able to generalise well to new data.\n",
        "\n",
        "Our EarlyStopping callback function stopped training after 4 epochs that the validation loss did not decrease, giving us a model that optimised to not underfit but also not overfit."
      ],
      "metadata": {
        "id": "d8o2UxriV3us"
      }
    },
    {
      "cell_type": "markdown",
      "source": [
        "Let's plot the training and validation accuracy as well."
      ],
      "metadata": {
        "id": "mwwMEqDwW19H"
      }
    },
    {
      "cell_type": "code",
      "metadata": {
        "id": "UU-foAJp75ay",
        "colab": {
          "base_uri": "https://localhost:8080/",
          "height": 295
        },
        "outputId": "21e01385-6122-427e-9ad8-a2dcdb88e394"
      },
      "source": [
        "history_dict = history.history #access the history attribute of the History object\n",
        "acc_values = history_dict[\"accuracy\"] #access training accuracy\n",
        "val_acc_values = history_dict[\"val_accuracy\"] # access validation accuracy\n",
        "epochs = range(1, len(acc_values) +1) # specify number of epochs to visualise\n",
        "plt.plot(epochs, acc_values, \"bo\", label=\"Training accuracy\") #plot training accuracy\n",
        "plt.plot(epochs, val_acc_values, \"b\", label=\"Validation accuracy\")# plot validation accuracy\n",
        "plt.title(\"Training and validation accuracy\") #title\n",
        "plt.xlabel(\"Epochs\") # X label\n",
        "plt.ylabel(\"Accuracy\") # Y label\n",
        "plt.legend() # show legend\n",
        "plt.show() # show plot"
      ],
      "execution_count": null,
      "outputs": [
        {
          "output_type": "display_data",
          "data": {
            "image/png": "[encoded data removed]",
            "text/plain": [
              "<Figure size 432x288 with 1 Axes>"
            ]
          },
          "metadata": {
            "needs_background": "light"
          }
        }
      ]
    },
    {
      "cell_type": "markdown",
      "source": [
        "The above graph shows a similar pattern. Both of our training and validation accuracy improved until epoch 10, but our validation accuracy stopped improving after epoch 10, telling us that at this point, our model started overfitting. Our callback function was triggered and training was stopped and the best model was saved to disk.\n",
        "\n",
        "At epoch 10, our validation accuracy was `86.72%` – not bad! This model was saved to disk and can be loaded later to make predictions on new images."
      ],
      "metadata": {
        "id": "aQdfUZxdXK2Z"
      }
    },
    {
      "cell_type": "markdown",
      "source": [
        "#### Confusion Matrix\n",
        "\n",
        "A common way to evaluate the performance of a classifier is to look at the confusion matrix. The basic idea is to count the number of times instances of class A are classified as class B.\n",
        "\n",
        "To compute the confusion matrix, you first need to have a set of predictions so that they can be compared to the actual targets. We have already done this above using the `model.predict()` function.\n",
        "\n",
        "To generate confusion matrix, the `confusion_matrix()` function can be used. This function takes a target class (actual labels) and the predicted class (predictions of the model).\n",
        "\n",
        "Before we can calculate the confusion matrix, we have to prepare our predictions array to feed into the `confusion_matrix()` function.\n",
        "\n",
        "Recall that the last layer of our model has 10 units and uses a `softmax` activation function. This means the output of our model will be a vector of 10 columns whose values are within 0-1 range, indicating the probability that an observation belongs to one of the 10 classes (the `softmax` activation tranforms the output to a 0-1 range and these values are interpreted as probabilities). For example, the output vector could look like this:\n",
        "\n",
        "`[0.0,0.1,0.0,0.1,0.01,0.0,0.0,0.79]`\n",
        "\n",
        "The above means that the probability that the input image belongs to the class 10 is 79%. To generate a confusion matrix, we need to transform this vector to another vector that just holds the indices of the maximum values (highest probability). The function below does this.\n"
      ],
      "metadata": {
        "id": "75iQw8xGv-zI"
      }
    },
    {
      "cell_type": "code",
      "metadata": {
        "id": "OVu52oq4jP9e"
      },
      "source": [
        "\"\"\"\n",
        "Run helper function to generate two matrices that just hold the indices of the maximum values\n",
        "i.e., y_test_amax and y_pred_amax will hold the classes that our model think has the highest probability that an input image belong to.\n",
        "\"\"\"\n",
        "y_test_amax, y_pred_amax = find_indices_with_highest_probability(y_pred, y_test)"
      ],
      "execution_count": null,
      "outputs": []
    },
    {
      "cell_type": "markdown",
      "source": [
        "#### Import libraries"
      ],
      "metadata": {
        "id": "uLK1Zb9J0nPh"
      }
    },
    {
      "cell_type": "code",
      "metadata": {
        "id": "2UHTd5KEjUS1"
      },
      "source": [
        "from sklearn import metrics # to generate confusion matrix\n",
        "import pandas as pd # to use pandas DataFrames\n",
        "import seaborn as sns # seaborn is a visualisation library built ontop of matplotlib"
      ],
      "execution_count": null,
      "outputs": []
    },
    {
      "cell_type": "markdown",
      "source": [
        "#### Generate confusion matrix"
      ],
      "metadata": {
        "id": "e1ilQH-g19so"
      }
    },
    {
      "cell_type": "code",
      "metadata": {
        "id": "NvVnz5KIjaTe",
        "colab": {
          "base_uri": "https://localhost:8080/"
        },
        "outputId": "6e186b0b-cc33-4d3f-93a3-385687aa2d47"
      },
      "source": [
        "matrix = metrics.confusion_matrix(y_test_amax, y_pred_amax)\n",
        "matrix"
      ],
      "execution_count": null,
      "outputs": [
        {
          "output_type": "execute_result",
          "data": {
            "text/plain": [
              "array([[174,   1,   1,  12,   1,   1,   7,   1,   0,   0],\n",
              "       [  0, 196,   4,   0,   0,   2,   0,   0,   0,   0],\n",
              "       [  4,   1, 101,  28,   9,  14,  35,   4,   4,   0],\n",
              "       [  1,   2,   0, 153,  23,   1,   3,  10,   4,   0],\n",
              "       [  0,   0,   0,   2, 190,   0,   0,   0,   0,   0],\n",
              "       [  4,  32,   3,  26,   0,  68,  13,   0,   0,   0],\n",
              "       [ 13,   0,   3,  18,   1,   1, 116,   0,   0,   0],\n",
              "       [  0,   0,   0,  10,  32,   0,   0, 164,   0,   0],\n",
              "       [  0,   0,   0,   1,   1,   0,   0,   0, 167,   2],\n",
              "       [  0,   0,   0,   0,   0,   0,   0,   0,   2, 224]])"
            ]
          },
          "metadata": {},
          "execution_count": 25
        }
      ]
    },
    {
      "cell_type": "code",
      "metadata": {
        "id": "oF_wyjofj_wa",
        "colab": {
          "base_uri": "https://localhost:8080/",
          "height": 363
        },
        "outputId": "1e859810-03f5-4ff4-939a-a5be11fd07c0"
      },
      "source": [
        "label_str=[ #converting categorical integers to readable categories\n",
        "    'AnnualCrop',\n",
        "    'Forest',\n",
        "    'HerbaceousVegetation',\n",
        "    'Highway',\n",
        "    'Industrial',\n",
        "    'Pasture',\n",
        "    'PermanentCrop',\n",
        "    'Residential',\n",
        "    'River',\n",
        "    'SeaLake' ]\n",
        "\n",
        "\n",
        "con_mat_df = pd.DataFrame(matrix, #convert confusion matrix to pandas dataframe\n",
        "                                index  = label_str, #index is labels list defined above\n",
        "                                columns= label_str) #columns is also labels list define above\n",
        "con_mat_df"
      ],
      "execution_count": null,
      "outputs": [
        {
          "output_type": "execute_result",
          "data": {
            "text/html": [
              "<div>\n",
              "<style scoped>\n",
              "    .dataframe tbody tr th:only-of-type {\n",
              "        vertical-align: middle;\n",
              "    }\n",
              "\n",
              "    .dataframe tbody tr th {\n",
              "        vertical-align: top;\n",
              "    }\n",
              "\n",
              "    .dataframe thead th {\n",
              "        text-align: right;\n",
              "    }\n",
              "</style>\n",
              "<table border=\"1\" class=\"dataframe\">\n",
              "  <thead>\n",
              "    <tr style=\"text-align: right;\">\n",
              "      <th></th>\n",
              "      <th>AnnualCrop</th>\n",
              "      <th>Forest</th>\n",
              "      <th>HerbaceousVegetation</th>\n",
              "      <th>Highway</th>\n",
              "      <th>Industrial</th>\n",
              "      <th>Pasture</th>\n",
              "      <th>PermanentCrop</th>\n",
              "      <th>Residential</th>\n",
              "      <th>River</th>\n",
              "      <th>SeaLake</th>\n",
              "    </tr>\n",
              "  </thead>\n",
              "  <tbody>\n",
              "    <tr>\n",
              "      <th>AnnualCrop</th>\n",
              "      <td>174</td>\n",
              "      <td>1</td>\n",
              "      <td>1</td>\n",
              "      <td>12</td>\n",
              "      <td>1</td>\n",
              "      <td>1</td>\n",
              "      <td>7</td>\n",
              "      <td>1</td>\n",
              "      <td>0</td>\n",
              "      <td>0</td>\n",
              "    </tr>\n",
              "    <tr>\n",
              "      <th>Forest</th>\n",
              "      <td>0</td>\n",
              "      <td>196</td>\n",
              "      <td>4</td>\n",
              "      <td>0</td>\n",
              "      <td>0</td>\n",
              "      <td>2</td>\n",
              "      <td>0</td>\n",
              "      <td>0</td>\n",
              "      <td>0</td>\n",
              "      <td>0</td>\n",
              "    </tr>\n",
              "    <tr>\n",
              "      <th>HerbaceousVegetation</th>\n",
              "      <td>4</td>\n",
              "      <td>1</td>\n",
              "      <td>101</td>\n",
              "      <td>28</td>\n",
              "      <td>9</td>\n",
              "      <td>14</td>\n",
              "      <td>35</td>\n",
              "      <td>4</td>\n",
              "      <td>4</td>\n",
              "      <td>0</td>\n",
              "    </tr>\n",
              "    <tr>\n",
              "      <th>Highway</th>\n",
              "      <td>1</td>\n",
              "      <td>2</td>\n",
              "      <td>0</td>\n",
              "      <td>153</td>\n",
              "      <td>23</td>\n",
              "      <td>1</td>\n",
              "      <td>3</td>\n",
              "      <td>10</td>\n",
              "      <td>4</td>\n",
              "      <td>0</td>\n",
              "    </tr>\n",
              "    <tr>\n",
              "      <th>Industrial</th>\n",
              "      <td>0</td>\n",
              "      <td>0</td>\n",
              "      <td>0</td>\n",
              "      <td>2</td>\n",
              "      <td>190</td>\n",
              "      <td>0</td>\n",
              "      <td>0</td>\n",
              "      <td>0</td>\n",
              "      <td>0</td>\n",
              "      <td>0</td>\n",
              "    </tr>\n",
              "    <tr>\n",
              "      <th>Pasture</th>\n",
              "      <td>4</td>\n",
              "      <td>32</td>\n",
              "      <td>3</td>\n",
              "      <td>26</td>\n",
              "      <td>0</td>\n",
              "      <td>68</td>\n",
              "      <td>13</td>\n",
              "      <td>0</td>\n",
              "      <td>0</td>\n",
              "      <td>0</td>\n",
              "    </tr>\n",
              "    <tr>\n",
              "      <th>PermanentCrop</th>\n",
              "      <td>13</td>\n",
              "      <td>0</td>\n",
              "      <td>3</td>\n",
              "      <td>18</td>\n",
              "      <td>1</td>\n",
              "      <td>1</td>\n",
              "      <td>116</td>\n",
              "      <td>0</td>\n",
              "      <td>0</td>\n",
              "      <td>0</td>\n",
              "    </tr>\n",
              "    <tr>\n",
              "      <th>Residential</th>\n",
              "      <td>0</td>\n",
              "      <td>0</td>\n",
              "      <td>0</td>\n",
              "      <td>10</td>\n",
              "      <td>32</td>\n",
              "      <td>0</td>\n",
              "      <td>0</td>\n",
              "      <td>164</td>\n",
              "      <td>0</td>\n",
              "      <td>0</td>\n",
              "    </tr>\n",
              "    <tr>\n",
              "      <th>River</th>\n",
              "      <td>0</td>\n",
              "      <td>0</td>\n",
              "      <td>0</td>\n",
              "      <td>1</td>\n",
              "      <td>1</td>\n",
              "      <td>0</td>\n",
              "      <td>0</td>\n",
              "      <td>0</td>\n",
              "      <td>167</td>\n",
              "      <td>2</td>\n",
              "    </tr>\n",
              "    <tr>\n",
              "      <th>SeaLake</th>\n",
              "      <td>0</td>\n",
              "      <td>0</td>\n",
              "      <td>0</td>\n",
              "      <td>0</td>\n",
              "      <td>0</td>\n",
              "      <td>0</td>\n",
              "      <td>0</td>\n",
              "      <td>0</td>\n",
              "      <td>2</td>\n",
              "      <td>224</td>\n",
              "    </tr>\n",
              "  </tbody>\n",
              "</table>\n",
              "</div>"
            ],
            "text/plain": [
              "                      AnnualCrop  Forest  ...  River  SeaLake\n",
              "AnnualCrop                   174       1  ...      0        0\n",
              "Forest                         0     196  ...      0        0\n",
              "HerbaceousVegetation           4       1  ...      4        0\n",
              "Highway                        1       2  ...      4        0\n",
              "Industrial                     0       0  ...      0        0\n",
              "Pasture                        4      32  ...      0        0\n",
              "PermanentCrop                 13       0  ...      0        0\n",
              "Residential                    0       0  ...      0        0\n",
              "River                          0       0  ...    167        2\n",
              "SeaLake                        0       0  ...      2      224\n",
              "\n",
              "[10 rows x 10 columns]"
            ]
          },
          "metadata": {},
          "execution_count": 26
        }
      ]
    },
    {
      "cell_type": "markdown",
      "source": [
        "#### Visualise the Confusion Matrix"
      ],
      "metadata": {
        "id": "PT2F5zjh2Bnv"
      }
    },
    {
      "cell_type": "code",
      "metadata": {
        "id": "Sp2DrfZbkD2W",
        "colab": {
          "base_uri": "https://localhost:8080/",
          "height": 743
        },
        "outputId": "c2c59212-1e81-4142-aee8-33853657cefb"
      },
      "source": [
        "\"\"\"\n",
        "Plot the confusion matrix using seaborn\n",
        "\"\"\"\n",
        "plt.figure(figsize=(10, 10)) #initialise a figure\n",
        "sns.heatmap(con_mat_df, #generate a heatmap from the confusion matrix DataFrame\n",
        "            annot=True,\n",
        "            fmt='d',\n",
        "            cmap=plt.cm.Blues)\n",
        "plt.tight_layout() #adjust the padding around the figure\n",
        "plt.ylabel('True label') # Y label\n",
        "plt.xlabel('Predicted label') # X Label\n",
        "plt.show() # show plot"
      ],
      "execution_count": null,
      "outputs": [
        {
          "output_type": "display_data",
          "data": {
            "image/png": "[encoded data removed]",
            "text/plain": [
              "<Figure size 720x720 with 2 Axes>"
            ]
          },
          "metadata": {
            "needs_background": "light"
          }
        }
      ]
    },
    {
      "cell_type": "code",
      "source": [],
      "metadata": {
        "id": "dqYEkA9FYGlK"
      },
      "execution_count": null,
      "outputs": []
    }
  ]
}